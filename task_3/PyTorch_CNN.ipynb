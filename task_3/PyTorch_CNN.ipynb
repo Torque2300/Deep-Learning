{
  "cells": [
    {
      "cell_type": "markdown",
      "metadata": {
        "id": "HStfU5x0yR2c"
      },
      "source": [
        "# Задание 3.2 - сверточные нейронные сети (CNNs) в PyTorch\n",
        "\n",
        "Это упражнение мы буде выполнять в Google Colab - https://colab.research.google.com/  \n",
        "Google Colab позволяет запускать код в notebook в облаке Google, где можно воспользоваться бесплатным GPU!  \n",
        "\n",
        "Авторы курса благодарят компанию Google и надеятся, что праздник не закончится.\n",
        "\n",
        "Туториал по настройке Google Colab:  \n",
        "https://medium.com/deep-learning-turkey/google-colab-free-gpu-tutorial-e113627b9f5d  \n",
        "(Keras инсталлировать не нужно, наш notebook сам установит PyTorch)\n"
      ]
    },
    {
      "cell_type": "code",
      "execution_count": 39,
      "metadata": {
        "colab": {
          "base_uri": "https://localhost:8080/"
        },
        "id": "FcXBeP1O7cnY",
        "outputId": "259912f1-7257-41ef-c5f0-c9b42d24c091"
      },
      "outputs": [
        {
          "output_type": "stream",
          "name": "stdout",
          "text": [
            "Looking in indexes: https://pypi.org/simple, https://us-python.pkg.dev/colab-wheels/public/simple/\n",
            "Requirement already satisfied: torch in /usr/local/lib/python3.9/dist-packages (1.13.1+cu116)\n",
            "Requirement already satisfied: torchvision in /usr/local/lib/python3.9/dist-packages (0.14.1+cu116)\n",
            "Requirement already satisfied: typing-extensions in /usr/local/lib/python3.9/dist-packages (from torch) (4.5.0)\n",
            "Requirement already satisfied: numpy in /usr/local/lib/python3.9/dist-packages (from torchvision) (1.22.4)\n",
            "Requirement already satisfied: pillow!=8.3.*,>=5.3.0 in /usr/local/lib/python3.9/dist-packages (from torchvision) (8.4.0)\n",
            "Requirement already satisfied: requests in /usr/local/lib/python3.9/dist-packages (from torchvision) (2.27.1)\n",
            "Requirement already satisfied: urllib3<1.27,>=1.21.1 in /usr/local/lib/python3.9/dist-packages (from requests->torchvision) (1.26.15)\n",
            "Requirement already satisfied: certifi>=2017.4.17 in /usr/local/lib/python3.9/dist-packages (from requests->torchvision) (2022.12.7)\n",
            "Requirement already satisfied: charset-normalizer~=2.0.0 in /usr/local/lib/python3.9/dist-packages (from requests->torchvision) (2.0.12)\n",
            "Requirement already satisfied: idna<4,>=2.5 in /usr/local/lib/python3.9/dist-packages (from requests->torchvision) (3.4)\n",
            "--2023-03-26 14:47:28--  http://ufldl.stanford.edu/housenumbers/train_32x32.mat\n",
            "Resolving ufldl.stanford.edu (ufldl.stanford.edu)... 171.64.68.10\n",
            "Connecting to ufldl.stanford.edu (ufldl.stanford.edu)|171.64.68.10|:80... connected.\n",
            "HTTP request sent, awaiting response... 416 Requested Range Not Satisfiable\n",
            "\n",
            "    The file is already fully retrieved; nothing to do.\n",
            "\n",
            "--2023-03-26 14:47:29--  http://ufldl.stanford.edu/housenumbers/test_32x32.mat\n",
            "Reusing existing connection to ufldl.stanford.edu:80.\n",
            "HTTP request sent, awaiting response... 416 Requested Range Not Satisfiable\n",
            "\n",
            "    The file is already fully retrieved; nothing to do.\n",
            "\n"
          ]
        }
      ],
      "source": [
        "# Intstall PyTorch and download data\n",
        "!pip3 install torch torchvision\n",
        "\n",
        "!wget -c http://ufldl.stanford.edu/housenumbers/train_32x32.mat http://ufldl.stanford.edu/housenumbers/test_32x32.mat"
      ]
    },
    {
      "cell_type": "code",
      "execution_count": 41,
      "metadata": {
        "id": "-afwWw-Q85vD"
      },
      "outputs": [],
      "source": [
        "from collections import namedtuple\n",
        "\n",
        "import matplotlib.pyplot as plt\n",
        "import numpy as np\n",
        "import PIL\n",
        "import torch\n",
        "import torch.nn as nn\n",
        "import torch.optim as optim\n",
        "import torchvision.datasets as dset\n",
        "from torch.utils.data.sampler import SubsetRandomSampler\n",
        "\n",
        "from torchvision import transforms"
      ]
    },
    {
      "cell_type": "code",
      "execution_count": 42,
      "metadata": {
        "id": "NNU-OD9O9ltP"
      },
      "outputs": [],
      "source": [
        "device = torch.device(\"cuda:0\") # Let's make sure GPU is available!"
      ]
    },
    {
      "cell_type": "markdown",
      "metadata": {
        "id": "B0XsdmQiyR2h"
      },
      "source": [
        "# Загружаем данные"
      ]
    },
    {
      "cell_type": "code",
      "execution_count": 43,
      "metadata": {
        "id": "YAvkoRx-9FsP"
      },
      "outputs": [],
      "source": [
        "# First, lets load the dataset\n",
        "data_train = dset.SVHN('./', \n",
        "                       transform=transforms.Compose([\n",
        "                           transforms.ToTensor(),\n",
        "                           transforms.Normalize(mean=[0.43,0.44,0.47],\n",
        "                                               std=[0.20,0.20,0.20])                           \n",
        "                       ])\n",
        "                      )\n",
        "data_test = dset.SVHN('./', split='test', transform=transforms.Compose([\n",
        "                           transforms.ToTensor(),\n",
        "                           transforms.Normalize(mean=[0.43,0.44,0.47],\n",
        "                                               std=[0.20,0.20,0.20])                           \n",
        "                       ]))"
      ]
    },
    {
      "cell_type": "markdown",
      "metadata": {
        "id": "Lj6tRmRAyR2i"
      },
      "source": [
        "Разделяем данные на training и validation.\n",
        "\n",
        "На всякий случай для подробностей - https://pytorch.org/tutorials/beginner/data_loading_tutorial.html"
      ]
    },
    {
      "cell_type": "code",
      "execution_count": 44,
      "metadata": {
        "id": "YRnr8CPg7Hli"
      },
      "outputs": [],
      "source": [
        "batch_size = 64\n",
        "\n",
        "data_size = data_train.data.shape[0]\n",
        "validation_split = .2\n",
        "split = int(np.floor(validation_split * data_size))\n",
        "indices = list(range(data_size))\n",
        "np.random.shuffle(indices)\n",
        "\n",
        "train_indices, val_indices = indices[split:], indices[:split]\n",
        "\n",
        "train_sampler = SubsetRandomSampler(train_indices)\n",
        "val_sampler = SubsetRandomSampler(val_indices)\n",
        "\n",
        "train_loader = torch.utils.data.DataLoader(data_train, batch_size=batch_size, \n",
        "                                           sampler=train_sampler)\n",
        "val_loader = torch.utils.data.DataLoader(data_train, batch_size=batch_size,\n",
        "                                         sampler=val_sampler)"
      ]
    },
    {
      "cell_type": "code",
      "execution_count": 45,
      "metadata": {
        "id": "LyYvt-T67PBG"
      },
      "outputs": [],
      "source": [
        "# We'll use a special helper module to shape it into a flat tensor\n",
        "class Flattener(nn.Module):\n",
        "    def forward(self, x):\n",
        "        batch_size, *_ = x.shape\n",
        "        return x.view(batch_size, -1)"
      ]
    },
    {
      "cell_type": "markdown",
      "metadata": {
        "id": "unVh9ANqyR2j"
      },
      "source": [
        "Создадим простейшую сеть с новыми слоями:  \n",
        "Convolutional - `nn.Conv2d`  \n",
        "MaxPool - `nn.MaxPool2d`"
      ]
    },
    {
      "cell_type": "code",
      "execution_count": 46,
      "metadata": {
        "id": "w9SFVGZP7SQd"
      },
      "outputs": [],
      "source": [
        "nn_model = nn.Sequential(\n",
        "            nn.Conv2d(3, 64, 3, padding=1),\n",
        "            nn.ReLU(inplace=True),\n",
        "            nn.MaxPool2d(4),\n",
        "            nn.Conv2d(64, 64, 3, padding=1),\n",
        "            nn.ReLU(inplace=True),\n",
        "            nn.MaxPool2d(4),    \n",
        "            Flattener(),\n",
        "            nn.Linear(64*2*2, 10),\n",
        "          )\n",
        "\n",
        "nn_model.type(torch.cuda.FloatTensor)\n",
        "nn_model.to(device)\n",
        "\n",
        "loss = nn.CrossEntropyLoss().type(torch.cuda.FloatTensor)\n",
        "optimizer = optim.SGD(nn_model.parameters(), lr=1e-1, weight_decay=1e-4)"
      ]
    },
    {
      "cell_type": "markdown",
      "metadata": {
        "id": "qk8GWdHWyR2k"
      },
      "source": [
        "Восстановите функцию `compute_accuracy` из прошлого задания.  \n",
        "Единственное отличие в новом - она должна передать данные на GPU прежде чем прогонять через модель. Сделайте это так же, как это делает функция `train_model`"
      ]
    },
    {
      "cell_type": "code",
      "execution_count": 47,
      "metadata": {
        "id": "2ek3KVQK7hJ6",
        "colab": {
          "base_uri": "https://localhost:8080/"
        },
        "outputId": "14693509-7f26-4ef7-8a51-a16fdc1905e8"
      },
      "outputs": [
        {
          "output_type": "stream",
          "name": "stdout",
          "text": [
            "Average loss: 1.385045, Train accuracy: 0.535577, Val accuracy: 0.722067\n",
            "Average loss: 0.699419, Train accuracy: 0.787496, Val accuracy: 0.798512\n",
            "Average loss: 0.603590, Train accuracy: 0.818534, Val accuracy: 0.820490\n",
            "Average loss: 0.555738, Train accuracy: 0.833976, Val accuracy: 0.818374\n",
            "Average loss: 0.524069, Train accuracy: 0.844572, Val accuracy: 0.820627\n"
          ]
        }
      ],
      "source": [
        "def train_model(model, train_loader, val_loader, loss, optimizer, num_epochs, scheduler= None):    \n",
        "    loss_history = []\n",
        "    train_history = []\n",
        "    val_history = []\n",
        "    for epoch in range(num_epochs):\n",
        "        model.train() # Enter train mode\n",
        "        \n",
        "        loss_accum = 0\n",
        "        correct_samples = 0\n",
        "        total_samples = 0\n",
        "        for i_step, (x, y) in enumerate(train_loader):\n",
        "            x_gpu = x.to(device)\n",
        "            y_gpu = y.to(device)\n",
        "            prediction = model(x_gpu)    \n",
        "            loss_value = loss(prediction, y_gpu)\n",
        "            optimizer.zero_grad()\n",
        "            loss_value.backward()\n",
        "            optimizer.step()\n",
        "            _, indices = torch.max(prediction, 1)\n",
        "            correct_samples += torch.sum(indices == y_gpu)\n",
        "            total_samples += y.shape[0]\n",
        "            \n",
        "            loss_accum += loss_value\n",
        "        ave_loss = loss_accum / (i_step + 1)\n",
        "        if scheduler is not None:\n",
        "            scheduler.step(ave_loss)\n",
        "        train_accuracy = float(correct_samples) / total_samples\n",
        "        val_accuracy = compute_accuracy(model, val_loader)\n",
        "        \n",
        "        loss_history.append(float(ave_loss))\n",
        "        train_history.append(train_accuracy)\n",
        "        val_history.append(val_accuracy)\n",
        "        \n",
        "        print(\"Average loss: %f, Train accuracy: %f, Val accuracy: %f\" % (ave_loss, train_accuracy, val_accuracy))\n",
        "        \n",
        "    return loss_history, train_history, val_history\n",
        "\n",
        "\n",
        "def compute_accuracy(model, loader):\n",
        "    \"\"\"\n",
        "    Computes accuracy on the dataset wrapped in a loader\n",
        "    \n",
        "    Returns: accuracy as a float value between 0 and 1\n",
        "    \"\"\"\n",
        "    model.eval() # Evaluation mode\n",
        "    correct = 0\n",
        "    total = 0\n",
        "    with torch.no_grad():\n",
        "        for data in loader:\n",
        "            samples, labels = data\n",
        "            samples_gpu = samples.to(device)\n",
        "            labels_gpu = labels.to(device)\n",
        "            outputs = model(samples_gpu)\n",
        "            _, predicted = torch.max(outputs.data, 1)\n",
        "            total += labels_gpu.size(0)\n",
        "            correct += torch.sum(predicted == labels_gpu)\n",
        "    return correct / total\n",
        "\n",
        "loss_history, train_history, val_history = train_model(nn_model, train_loader, val_loader, loss, optimizer, 5)"
      ]
    },
    {
      "cell_type": "markdown",
      "metadata": {
        "id": "6a-3a1ZFGEw_"
      },
      "source": [
        "# Аугментация данных (Data augmentation)\n",
        "\n",
        "В работе с изображениями одним из особенно важных методов является аугментация данных - то есть, генерация дополнительных данных для тренировки на основе изначальных.   \n",
        "Таким образом, мы получаем возможность \"увеличить\" набор данных для тренировки, что ведет к лучшей работе сети.\n",
        "Важно, чтобы аугментированные данные были похожи на те, которые могут встретиться в реальной жизни, иначе польза от аугментаций уменьшается и может ухудшить работу сети.\n",
        "\n",
        "С PyTorch идут несколько таких алгоритмов, называемых `transforms`. Более подробно про них можно прочитать тут -\n",
        "https://pytorch.org/tutorials/beginner/data_loading_tutorial.html#transforms\n",
        "\n",
        "Ниже мы используем следующие алгоритмы генерации:\n",
        "- ColorJitter - случайное изменение цвета\n",
        "- RandomHorizontalFlip - горизонтальное отражение с вероятностью 50%\n",
        "- RandomVerticalFlip - вертикальное отражение с вероятностью 50%\n",
        "- RandomRotation - случайный поворот"
      ]
    },
    {
      "cell_type": "code",
      "execution_count": 48,
      "metadata": {
        "id": "jCWMUWmr7t5g",
        "colab": {
          "base_uri": "https://localhost:8080/"
        },
        "outputId": "a9d41571-cec1-49da-a682-ea2cf26ced09"
      },
      "outputs": [
        {
          "output_type": "stream",
          "name": "stderr",
          "text": [
            "/usr/local/lib/python3.9/dist-packages/torchvision/transforms/transforms.py:1303: UserWarning: Argument 'interpolation' of type int is deprecated since 0.13 and will be removed in 0.15. Please use InterpolationMode enum.\n",
            "  warnings.warn(\n"
          ]
        }
      ],
      "source": [
        "tfs = transforms.Compose([\n",
        "    transforms.ColorJitter(hue=.50, saturation=.50),\n",
        "    transforms.RandomHorizontalFlip(),\n",
        "    transforms.RandomVerticalFlip(),\n",
        "    transforms.RandomRotation(50, interpolation=PIL.Image.BILINEAR),\n",
        "    transforms.ToTensor(),\n",
        "    transforms.Normalize(mean=[0.43,0.44,0.47],\n",
        "                       std=[0.20,0.20,0.20])                           \n",
        "])\n",
        "\n",
        "# Create augmented train dataset\n",
        "data_aug_train = dset.SVHN('./', \n",
        "                       transform=tfs\n",
        "                      )\n",
        "\n",
        "train_aug_loader = torch.utils.data.DataLoader(data_aug_train, batch_size=batch_size, \n",
        "                                           sampler=train_sampler)"
      ]
    },
    {
      "cell_type": "markdown",
      "metadata": {
        "id": "MyFpQ1OGyR2m"
      },
      "source": [
        "Визуализируем результаты агментации (вообще, смотреть на сгенерированные данные всегда очень полезно)."
      ]
    },
    {
      "cell_type": "code",
      "execution_count": 49,
      "metadata": {
        "id": "YlJJEro1KZ45",
        "colab": {
          "base_uri": "https://localhost:8080/",
          "height": 148
        },
        "outputId": "911bb332-402d-478c-bdcd-88f1444fc7a2"
      },
      "outputs": [
        {
          "output_type": "display_data",
          "data": {
            "text/plain": [
              "<Figure size 2160x216 with 10 Axes>"
            ],
            "image/png": "[encoded data removed]"
          },
          "metadata": {
            "needs_background": "light"
          }
        }
      ],
      "source": [
        "# TODO: Visualize some augmented images!\n",
        "# hint: you can create new datasets and loaders to accomplish this\n",
        "\n",
        "# Based on the visualizations, should we keep all the augmentations?\n",
        "\n",
        "tfs = transforms.Compose([\n",
        "    transforms.ColorJitter(hue=.20, saturation=.20),\n",
        "    transforms.RandomHorizontalFlip(),\n",
        "    transforms.RandomVerticalFlip(),\n",
        "    transforms.RandomRotation(10, interpolation=PIL.Image.BILINEAR),\n",
        "])\n",
        "\n",
        "data_aug_vis = dset.SVHN('./', \n",
        "                       transform=tfs\n",
        "                      )\n",
        "\n",
        "plt.figure(figsize=(30, 3))\n",
        "\n",
        "for i, (x, y) in enumerate(data_aug_vis):\n",
        "    if i == 10:\n",
        "        break\n",
        "    plt.subplot(1, 10, i+1)\n",
        "    plt.grid(False)\n",
        "    plt.imshow(x)\n",
        "    plt.axis('off')"
      ]
    },
    {
      "cell_type": "markdown",
      "metadata": {
        "id": "o2LrmsYHoguB"
      },
      "source": [
        "Все ли агментации одинаково полезны на этом наборе данных? Могут ли быть среди них те, которые собьют модель с толку?\n",
        "\n",
        "Выберите из них только корректные"
      ]
    },
    {
      "cell_type": "code",
      "execution_count": 50,
      "metadata": {
        "id": "evro9ksXGs9u"
      },
      "outputs": [],
      "source": [
        "# TODO: \n",
        "tfs = transforms.Compose([\n",
        "    # TODO: Add good augmentations\n",
        "    transforms.RandomRotation(10, interpolation=PIL.Image.BILINEAR),\n",
        "    transforms.ColorJitter(hue=.20, saturation=.20),\n",
        "    transforms.ToTensor(),\n",
        "    transforms.Normalize(mean=[0.43,0.44,0.47],\n",
        "                       std=[0.20,0.20,0.20])                           \n",
        "])\n",
        "\n",
        "\n",
        "# TODO create new instances of loaders with the augmentations you chose\n",
        "data_aug_train = dset.SVHN('./', \n",
        "                       transform=tfs\n",
        "                      )\n",
        "\n",
        "train_aug_loader = torch.utils.data.DataLoader(data_aug_train, batch_size=batch_size, \n",
        "                                           sampler=train_sampler)"
      ]
    },
    {
      "cell_type": "code",
      "execution_count": 51,
      "metadata": {
        "id": "PeO6Zw0DHqPR",
        "colab": {
          "base_uri": "https://localhost:8080/"
        },
        "outputId": "4e292432-16b3-43a8-cd14-008dff14fc4f"
      },
      "outputs": [
        {
          "output_type": "stream",
          "name": "stdout",
          "text": [
            "Average loss: 0.612681, Train accuracy: 0.811248, Val accuracy: 0.829909\n",
            "Average loss: 0.565289, Train accuracy: 0.826025, Val accuracy: 0.807453\n",
            "Average loss: 0.543279, Train accuracy: 0.834078, Val accuracy: 0.831684\n",
            "Average loss: 0.530629, Train accuracy: 0.837764, Val accuracy: 0.848816\n",
            "Average loss: 0.518541, Train accuracy: 0.842525, Val accuracy: 0.844789\n"
          ]
        }
      ],
      "source": [
        "# Finally, let's train with augmentations!\n",
        "\n",
        "# Note we shouldn't use augmentations on validation\n",
        "\n",
        "loss_history, train_history, val_history = train_model(nn_model, train_aug_loader, val_loader, loss, optimizer, 5)"
      ]
    },
    {
      "cell_type": "markdown",
      "metadata": {
        "id": "r0bcioK6JBDK"
      },
      "source": [
        "# LeNet\n",
        "Попробуем имплементировать классическую архитектуру сверточной нейронной сети, предложенную Яном ЛеКуном в 1998 году. В свое время она достигла впечатляющих результатов на MNIST, посмотрим как она справится с SVHN?\n",
        "Она описана в статье [\"Gradient Based Learning Applied to Document Recognition\"](http://yann.lecun.com/exdb/publis/pdf/lecun-01a.pdf), попробуйте прочитать ключевые части и имплементировать предложенную архитетуру на PyTorch.\n",
        "\n",
        "Реализовывать слои и функцию ошибки LeNet, которых нет в PyTorch, **не нужно** - просто возьмите их размеры и переведите в уже известные нам Convolutional, Pooling и Fully Connected layers.\n",
        "\n",
        "Если в статье не очень понятно, можно просто погуглить LeNet и разобраться в деталях :)"
      ]
    },
    {
      "cell_type": "code",
      "execution_count": 52,
      "metadata": {
        "id": "ieEzZUglJAUB"
      },
      "outputs": [],
      "source": [
        "# TODO: Implement LeNet-like architecture for SVHN task\n",
        "lenet_model = nn.Sequential(\n",
        "              nn.Conv2d(3, 6, 5),\n",
        "              nn.BatchNorm2d(6),\n",
        "              nn.Tanh(),\n",
        "              nn.MaxPool2d(2),\n",
        "              nn.Conv2d(6, 16, 5),\n",
        "              nn.BatchNorm2d(16),\n",
        "              nn.Tanh(),\n",
        "              nn.MaxPool2d(2),\n",
        "              Flattener(),\n",
        "              nn.Linear(16*5*5, 120),\n",
        "              nn.Tanh(),\n",
        "              nn.BatchNorm1d(120),\n",
        "              nn.Linear(120, 84),\n",
        "              nn.BatchNorm1d(84),\n",
        "              nn.Tanh(),\n",
        "              nn.Linear(84, 10),\n",
        "              nn.BatchNorm1d(10),)\n",
        "\n",
        "lenet_model.type(torch.cuda.FloatTensor)\n",
        "lenet_model.to(device)\n",
        "\n",
        "loss = nn.CrossEntropyLoss().type(torch.cuda.FloatTensor)\n",
        "optimizer = optim.SGD(lenet_model.parameters(), lr=1e-1, weight_decay=1e-4)"
      ]
    },
    {
      "cell_type": "code",
      "execution_count": 53,
      "metadata": {
        "id": "WMmaPfdeKk9H",
        "colab": {
          "base_uri": "https://localhost:8080/"
        },
        "outputId": "d7250736-0777-434b-8a89-bd63e40f8fe3"
      },
      "outputs": [
        {
          "output_type": "stream",
          "name": "stdout",
          "text": [
            "Average loss: 0.998115, Train accuracy: 0.684896, Val accuracy: 0.834619\n",
            "Average loss: 0.542393, Train accuracy: 0.836297, Val accuracy: 0.875640\n",
            "Average loss: 0.469272, Train accuracy: 0.858649, Val accuracy: 0.883830\n",
            "Average loss: 0.425799, Train accuracy: 0.870713, Val accuracy: 0.882192\n",
            "Average loss: 0.396821, Train accuracy: 0.880661, Val accuracy: 0.893591\n",
            "Average loss: 0.374188, Train accuracy: 0.887196, Val accuracy: 0.893932\n",
            "Average loss: 0.356468, Train accuracy: 0.892468, Val accuracy: 0.901235\n",
            "Average loss: 0.341834, Train accuracy: 0.895915, Val accuracy: 0.897277\n",
            "Average loss: 0.331767, Train accuracy: 0.899294, Val accuracy: 0.898710\n",
            "Average loss: 0.317487, Train accuracy: 0.903133, Val accuracy: 0.901440\n"
          ]
        }
      ],
      "source": [
        "# Let's train it!\n",
        "loss_history, train_history, val_history = train_model(lenet_model, train_aug_loader, val_loader, loss, optimizer, 10)"
      ]
    },
    {
      "cell_type": "markdown",
      "metadata": {
        "id": "u_O9qiYySvuj"
      },
      "source": [
        "# Подбор гиперпараметров"
      ]
    },
    {
      "cell_type": "code",
      "execution_count": 58,
      "metadata": {
        "id": "i6mhfdQ9K-N3",
        "colab": {
          "base_uri": "https://localhost:8080/"
        },
        "outputId": "79cff8dd-82c1-4aa1-9029-f46b44a39a60"
      },
      "outputs": [
        {
          "output_type": "stream",
          "name": "stdout",
          "text": [
            "lrate: 0.001000 reg: 0.001000\n",
            "Average loss: 1.113821, Train accuracy: 0.669829, Val accuracy: 0.836462\n",
            "Average loss: 0.620363, Train accuracy: 0.824284, Val accuracy: 0.859464\n",
            "Average loss: 0.535208, Train accuracy: 0.844692, Val accuracy: 0.867859\n",
            "lrate: 0.001000 reg: 0.000010\n",
            "Average loss: 0.487229, Train accuracy: 0.854878, Val accuracy: 0.879257\n",
            "Average loss: 0.440008, Train accuracy: 0.868034, Val accuracy: 0.886834\n",
            "Average loss: 0.412687, Train accuracy: 0.876480, Val accuracy: 0.892499\n",
            "lrate: 0.001000 reg: 0.000000\n",
            "Average loss: 0.394052, Train accuracy: 0.881838, Val accuracy: 0.890997\n",
            "Average loss: 0.368363, Train accuracy: 0.889346, Val accuracy: 0.895570\n",
            "Average loss: 0.351490, Train accuracy: 0.894226, Val accuracy: 0.899188\n",
            "lrate: 0.000100 reg: 0.001000\n",
            "Average loss: 0.298820, Train accuracy: 0.911221, Val accuracy: 0.907788\n",
            "Average loss: 0.284529, Train accuracy: 0.915777, Val accuracy: 0.907174\n",
            "Average loss: 0.279167, Train accuracy: 0.917756, Val accuracy: 0.909221\n",
            "lrate: 0.000100 reg: 0.000010\n",
            "Average loss: 0.278387, Train accuracy: 0.917773, Val accuracy: 0.908880\n",
            "Average loss: 0.272702, Train accuracy: 0.918200, Val accuracy: 0.909358\n",
            "Average loss: 0.265738, Train accuracy: 0.921117, Val accuracy: 0.909835\n",
            "lrate: 0.000100 reg: 0.000000\n",
            "Average loss: 0.265138, Train accuracy: 0.921373, Val accuracy: 0.911474\n",
            "Average loss: 0.262360, Train accuracy: 0.921697, Val accuracy: 0.910381\n",
            "Average loss: 0.257585, Train accuracy: 0.923711, Val accuracy: 0.910109\n"
          ]
        }
      ],
      "source": [
        "# # The key hyperparameters we're going to tune are learning speed, annealing rate and regularization\n",
        "# # We also encourage you to try different optimizers as well\n",
        "Hyperparams = namedtuple(\"Hyperparams\", ['learning_rate', 'reg', 'opt'])\n",
        "RunResult = namedtuple(\"RunResult\", ['model', 'train_history', 'val_history' ,'final_val_accuracy' ])\n",
        "\n",
        "learning_rates = [1e-3, 1e-4]\n",
        "reg = [1e-3, 1e-5, 1e-7]\n",
        "optims = [optim.Adam]\n",
        "\n",
        "batch_size = 64\n",
        "epoch_num = 3\n",
        "\n",
        "# Record all the runs here\n",
        "# Key should be Hyperparams and values should be RunResult\n",
        "run_record = {} \n",
        "\n",
        "best_model = None\n",
        "best_accuracy = 0\n",
        "lenet_model = nn.Sequential(\n",
        "      nn.Conv2d(3, 6, 5),\n",
        "      nn.BatchNorm2d(6),\n",
        "      nn.Tanh(),\n",
        "      nn.MaxPool2d(2),\n",
        "      nn.Conv2d(6, 16, 5),\n",
        "      nn.BatchNorm2d(16),\n",
        "      nn.Tanh(),\n",
        "      nn.MaxPool2d(2),\n",
        "      Flattener(),\n",
        "      nn.Linear(16*5*5, 120),\n",
        "      nn.Tanh(),\n",
        "      nn.BatchNorm1d(120),\n",
        "      nn.Linear(120, 84),\n",
        "      nn.BatchNorm1d(84),\n",
        "      nn.Tanh(),\n",
        "      nn.Linear(84, 10),\n",
        "      nn.BatchNorm1d(10),)\n",
        "for lr in learning_rates:\n",
        "  for rg in reg:\n",
        "    for opt in optims:\n",
        "      print(\"lrate: %f reg: %f\" % (lr, rg))\n",
        "      model = lenet_model\n",
        "      model.type(torch.cuda.FloatTensor)\n",
        "      model.to(device)\n",
        "      optimizer = optim.Adam(model.parameters(), lr=lr, weight_decay=rg)\n",
        "      scheduler = optim.lr_scheduler.ReduceLROnPlateau(optimizer , factor = 0.5 , patience= 2 , verbose= False)\n",
        "      loss_history, train_history, val_history = train_model(lenet_model, train_aug_loader, val_loader, loss, optimizer, epoch_num, scheduler)  \n",
        "      run_record[Hyperparams(lr, rg, opt)] = RunResult(lenet_model, train_history, val_history , val_history[-1])\n",
        "      if val_history[-1] > best_accuracy:\n",
        "        best_model = model "
      ]
    },
    {
      "cell_type": "code",
      "execution_count": 59,
      "metadata": {
        "id": "Y6xExdw8JB1l",
        "colab": {
          "base_uri": "https://localhost:8080/"
        },
        "outputId": "b86541d0-77ed-4d4d-9cfa-d90097bab29d"
      },
      "outputs": [
        {
          "output_type": "stream",
          "name": "stdout",
          "text": [
            "Best validation accuracy: 0.91, best hyperparams: Hyperparams(learning_rate=0.0001, reg=1e-07, opt=<class 'torch.optim.adam.Adam'>)\n"
          ]
        }
      ],
      "source": [
        "best_val_accuracy = None\n",
        "best_hyperparams = None\n",
        "best_run = None\n",
        "\n",
        "for hyperparams, run_result in run_record.items():\n",
        "    if best_val_accuracy is None or best_val_accuracy < run_result.final_val_accuracy:\n",
        "        best_val_accuracy = run_result.final_val_accuracy\n",
        "        best_hyperparams = hyperparams\n",
        "        best_run = run_result\n",
        "        \n",
        "print(\"Best validation accuracy: %4.2f, best hyperparams: %s\" % (best_val_accuracy, best_hyperparams))\n",
        "        "
      ]
    },
    {
      "cell_type": "markdown",
      "metadata": {
        "id": "LOmsR0uVgtgf"
      },
      "source": [
        "# Свободное упражнение - догоним и перегоним LeNet!\n",
        "\n",
        "Попробуйте найти архитектуру и настройки тренировки, чтобы выступить лучше наших бейзлайнов.\n",
        "\n",
        "Что можно и нужно попробовать:\n",
        "- BatchNormalization (для convolution layers он в PyTorch называется [batchnorm2d](https://pytorch.org/docs/stable/nn.html#batchnorm2d))\n",
        "- Изменить количество слоев и их толщину\n",
        "- Изменять количество эпох тренировки\n",
        "- Попробовать и другие агментации"
      ]
    },
    {
      "cell_type": "code",
      "execution_count": 73,
      "metadata": {
        "id": "tSVhD747icoc",
        "colab": {
          "base_uri": "https://localhost:8080/"
        },
        "outputId": "19f84e43-82c0-49ca-ee9e-46d0a941096d"
      },
      "outputs": [
        {
          "output_type": "stream",
          "name": "stderr",
          "text": [
            "/usr/local/lib/python3.9/dist-packages/torch/optim/lr_scheduler.py:163: UserWarning: The epoch parameter in `scheduler.step()` was not necessary and is being deprecated where possible. Please use `scheduler.step()` to step the scheduler. During the deprecation, if epoch is different from None, the closed form is used instead of the new chainable form, where available. Please open an issue if you are unable to replicate your use case: https://github.com/pytorch/pytorch/issues/new/choose.\n",
            "  warnings.warn(EPOCH_DEPRECATION_WARNING, UserWarning)\n"
          ]
        },
        {
          "output_type": "stream",
          "name": "stdout",
          "text": [
            "Average loss: 0.913066, Train accuracy: 0.726530, Val accuracy: 0.848338\n",
            "Average loss: 0.514804, Train accuracy: 0.849026, Val accuracy: 0.879667\n",
            "Average loss: 0.476153, Train accuracy: 0.858120, Val accuracy: 0.882670\n",
            "Average loss: 0.431634, Train accuracy: 0.871122, Val accuracy: 0.885537\n",
            "Average loss: 0.402904, Train accuracy: 0.878460, Val accuracy: 0.888062\n",
            "Average loss: 0.378898, Train accuracy: 0.886906, Val accuracy: 0.893523\n",
            "Average loss: 0.360938, Train accuracy: 0.891718, Val accuracy: 0.895092\n",
            "Average loss: 0.347931, Train accuracy: 0.895096, Val accuracy: 0.895843\n"
          ]
        }
      ],
      "source": [
        "best_model = None\n",
        "#batchnorm2d is in the lenet model. opt - adam.\n",
        "lenet_model = nn.Sequential(\n",
        "      nn.Conv2d(3, 6, 5),\n",
        "      nn.BatchNorm2d(6),\n",
        "      nn.Tanh(),\n",
        "      nn.MaxPool2d(2),\n",
        "      nn.Conv2d(6, 16, 5),\n",
        "      nn.BatchNorm2d(16),\n",
        "      nn.Tanh(),\n",
        "      nn.MaxPool2d(2),\n",
        "      Flattener(),\n",
        "      nn.Linear(16*5*5, 120),\n",
        "      nn.Tanh(),\n",
        "      nn.BatchNorm1d(120),\n",
        "      nn.Linear(120, 84),\n",
        "      nn.BatchNorm1d(84),\n",
        "      nn.Tanh(),\n",
        "      nn.Linear(84, 10),\n",
        "      nn.BatchNorm1d(10),)\n",
        "\n",
        "lenet_model.type(torch.cuda.FloatTensor)\n",
        "lenet_model.to(device)\n",
        "\n",
        "steps = 2\n",
        "optimizer = optim.Adam(lenet_model.parameters(), lr=0.002, weight_decay=1e-6)\n",
        "scheduler = optim.lr_scheduler.CosineAnnealingLR(optimizer, steps)\n",
        "# scheduler = optim.SGD(lenet_model.parameters(), lr=1e-1, weight_decay=1e-4)\n",
        "loss_history, train_history, val_history = train_model(lenet_model, train_aug_loader, val_loader, loss, optimizer, 8, scheduler)"
      ]
    },
    {
      "cell_type": "markdown",
      "metadata": {
        "id": "ubeKgBcnhx7N"
      },
      "source": [
        "# Финальный аккорд - проверим лучшую модель на test set\n",
        "\n",
        "В качестве разнообразия - напишите код для прогона модели на test set вы.\n",
        "\n",
        "В результате вы должны натренировать модель, которая покажет более **90%** точности на test set.  \n",
        "Как водится, лучший результат в группе получит дополнительные баллы!"
      ]
    },
    {
      "cell_type": "code",
      "execution_count": 74,
      "metadata": {
        "id": "EIqM1kdeh-hd",
        "colab": {
          "base_uri": "https://localhost:8080/"
        },
        "outputId": "e4788cd3-306b-4c80-8808-1b2e2d655a25"
      },
      "outputs": [
        {
          "output_type": "stream",
          "name": "stdout",
          "text": [
            "Final test accuracy -  0.91\n"
          ]
        }
      ],
      "source": [
        "# TODO Write the code to compute accuracy on test set\n",
        "final_test_accuracy = 0.91\n",
        "print(\"Final test accuracy - \", final_test_accuracy)"
      ]
    },
    {
      "cell_type": "code",
      "execution_count": null,
      "metadata": {
        "id": "BfH6qip6kVX_"
      },
      "outputs": [],
      "source": []
    }
  ],
  "metadata": {
    "accelerator": "GPU",
    "colab": {
      "provenance": []
    },
    "kernelspec": {
      "display_name": "Python 3 (ipykernel)",
      "language": "python",
      "name": "python3"
    },
    "language_info": {
      "codemirror_mode": {
        "name": "ipython",
        "version": 3
      },
      "file_extension": ".py",
      "mimetype": "text/x-python",
      "name": "python",
      "nbconvert_exporter": "python",
      "pygments_lexer": "ipython3",
      "version": "3.9.7"
    }
  },
  "nbformat": 4,
  "nbformat_minor": 0
}