{
 "cells": [
  {
   "cell_type": "markdown",
   "metadata": {},
   "source": [
    "# Задание 2.1 - Нейронные сети\n",
    "\n",
    "В этом задании вы реализуете и натренируете настоящую нейроную сеть своими руками!\n",
    "\n",
    "В некотором смысле это будет расширением прошлого задания - нам нужно просто составить несколько линейных классификаторов вместе!\n",
    "\n",
    "<img src=\"https://i.redd.it/n9fgba8b0qr01.png\" alt=\"Stack_more_layers\" width=\"400px\"/>"
   ]
  },
  {
   "cell_type": "code",
   "execution_count": 164,
   "metadata": {
    "scrolled": true
   },
   "outputs": [
    {
     "name": "stdout",
     "output_type": "stream",
     "text": [
      "The autoreload extension is already loaded. To reload it, use:\n",
      "  %reload_ext autoreload\n"
     ]
    }
   ],
   "source": [
    "import numpy as np\n",
    "import matplotlib.pyplot as plt\n",
    "\n",
    "%matplotlib inline\n",
    "\n",
    "%load_ext autoreload\n",
    "%autoreload 2"
   ]
  },
  {
   "cell_type": "code",
   "execution_count": 165,
   "metadata": {},
   "outputs": [],
   "source": [
    "from dataset import load_svhn, random_split_train_val\n",
    "from gradient_check import check_layer_gradient, check_layer_param_gradient, check_model_gradient\n",
    "from layers import FullyConnectedLayer, ReLULayer\n",
    "from model import TwoLayerNet\n",
    "from trainer import Trainer, Dataset\n",
    "from optim import SGD, MomentumSGD\n",
    "from metrics import multiclass_accuracy"
   ]
  },
  {
   "cell_type": "markdown",
   "metadata": {},
   "source": [
    "# Загружаем данные\n",
    "\n",
    "И разделяем их на training и validation."
   ]
  },
  {
   "cell_type": "code",
   "execution_count": 166,
   "metadata": {},
   "outputs": [
    {
     "name": "stderr",
     "output_type": "stream",
     "text": [
      "C:\\Users\\HUAWEI\\AppData\\Local\\Temp\\ipykernel_16260\\2810386256.py:2: DeprecationWarning: `np.float` is a deprecated alias for the builtin `float`. To silence this warning, use `float` by itself. Doing this will not modify any behavior and is safe. If you specifically wanted the numpy scalar type, use `np.float64` here.\n",
      "Deprecated in NumPy 1.20; for more details and guidance: https://numpy.org/devdocs/release/1.20.0-notes.html#deprecations\n",
      "  train_flat = train_X.reshape(train_X.shape[0], -1).astype(np.float) / 255.0\n",
      "C:\\Users\\HUAWEI\\AppData\\Local\\Temp\\ipykernel_16260\\2810386256.py:3: DeprecationWarning: `np.float` is a deprecated alias for the builtin `float`. To silence this warning, use `float` by itself. Doing this will not modify any behavior and is safe. If you specifically wanted the numpy scalar type, use `np.float64` here.\n",
      "Deprecated in NumPy 1.20; for more details and guidance: https://numpy.org/devdocs/release/1.20.0-notes.html#deprecations\n",
      "  test_flat = test_X.reshape(test_X.shape[0], -1).astype(np.float) / 255.0\n"
     ]
    }
   ],
   "source": [
    "def prepare_for_neural_network(train_X, test_X):\n",
    "    train_flat = train_X.reshape(train_X.shape[0], -1).astype(np.float) / 255.0\n",
    "    test_flat = test_X.reshape(test_X.shape[0], -1).astype(np.float) / 255.0\n",
    "    \n",
    "    # Subtract mean\n",
    "    mean_image = np.mean(train_flat, axis = 0)\n",
    "    train_flat -= mean_image\n",
    "    test_flat -= mean_image\n",
    "    \n",
    "    return train_flat, test_flat\n",
    "    \n",
    "train_X, train_y, test_X, test_y = load_svhn(\"data\", max_train=10000, max_test=1000)    \n",
    "train_X, test_X = prepare_for_neural_network(train_X, test_X)\n",
    "# Split train into train and val\n",
    "train_X, train_y, val_X, val_y = random_split_train_val(train_X, train_y, num_val = 1000)"
   ]
  },
  {
   "cell_type": "markdown",
   "metadata": {},
   "source": [
    "# Как всегда, начинаем с кирпичиков\n",
    "\n",
    "Мы будем реализовывать необходимые нам слои по очереди. Каждый слой должен реализовать:\n",
    "- прямой проход (forward pass), который генерирует выход слоя по входу и запоминает необходимые данные\n",
    "- обратный проход (backward pass), который получает градиент по выходу слоя и вычисляет градиент по входу и по параметрам\n",
    "\n",
    "Начнем с ReLU, у которого параметров нет."
   ]
  },
  {
   "cell_type": "markdown",
   "metadata": {},
   "source": [
    "А теперь реализуем полносвязный слой (fully connected layer), у которого будет два массива параметров: W (weights) и B (bias).\n",
    "\n",
    "Все параметры наши слои будут использовать для параметров специальный класс `Param`, в котором будут храниться значения параметров и градиенты этих параметров, вычисляемые во время обратного прохода.\n",
    "\n",
    "Это даст возможность аккумулировать (суммировать) градиенты из разных частей функции потерь, например, из cross-entropy loss и regularization loss."
   ]
  },
  {
   "cell_type": "code",
   "execution_count": 167,
   "metadata": {
    "scrolled": true
   },
   "outputs": [
    {
     "name": "stdout",
     "output_type": "stream",
     "text": [
      "Gradient check passed!\n"
     ]
    }
   ],
   "source": [
    "# TODO: Implement ReLULayer layer in layers.py\n",
    "# Note: you'll need to copy implementation of the gradient_check function from the previous assignment\n",
    "\n",
    "X = np.array([[1,-2,3],\n",
    "              [-1, 2, 0.1]\n",
    "              ])\n",
    "\n",
    "assert check_layer_gradient(ReLULayer(), X)"
   ]
  },
  {
   "cell_type": "code",
   "execution_count": 168,
   "metadata": {
    "scrolled": false
   },
   "outputs": [
    {
     "name": "stdout",
     "output_type": "stream",
     "text": [
      "Gradient check passed!\n",
      "Gradient check passed!\n",
      "Gradient check passed!\n"
     ]
    }
   ],
   "source": [
    "# TODO: Implement FullyConnected layer forward and backward methods\n",
    "assert check_layer_gradient(FullyConnectedLayer(3, 4), X)\n",
    "# TODO: Implement storing gradients for W and B\n",
    "assert check_layer_param_gradient(FullyConnectedLayer(3, 4), X, 'W')\n",
    "assert check_layer_param_gradient(FullyConnectedLayer(3, 4), X, 'B')"
   ]
  },
  {
   "cell_type": "markdown",
   "metadata": {},
   "source": [
    "## Создаем нейронную сеть\n",
    "\n",
    "Теперь мы реализуем простейшую нейронную сеть с двумя полносвязным слоями и нелинейностью ReLU. Реализуйте функцию `compute_loss_and_gradients`, она должна запустить прямой и обратный проход через оба слоя для вычисления градиентов.\n",
    "\n",
    "Не забудьте реализовать очистку градиентов в начале функции."
   ]
  },
  {
   "cell_type": "code",
   "execution_count": 169,
   "metadata": {
    "scrolled": false
   },
   "outputs": [
    {
     "name": "stdout",
     "output_type": "stream",
     "text": [
      "Checking gradient for FW\n",
      "Gradient check passed!\n",
      "Checking gradient for FB\n",
      "Gradient check passed!\n",
      "Checking gradient for SW\n",
      "Gradient check passed!\n",
      "Checking gradient for SB\n",
      "Gradient check passed!\n"
     ]
    },
    {
     "data": {
      "text/plain": [
       "True"
      ]
     },
     "execution_count": 169,
     "metadata": {},
     "output_type": "execute_result"
    }
   ],
   "source": [
    "# TODO: In model.py, implement compute_loss_and_gradients function\n",
    "model = TwoLayerNet(n_input = train_X.shape[1], n_output = 10, hidden_layer_size = 3, reg = 0)\n",
    "loss = model.compute_loss_and_gradients(train_X[:2], train_y[:2])\n",
    "\n",
    "# TODO Now implement backward pass and aggregate all of the params\n",
    "check_model_gradient(model, train_X[:2], train_y[:2])"
   ]
  },
  {
   "cell_type": "markdown",
   "metadata": {},
   "source": [
    "Теперь добавьте к модели регуляризацию - она должна прибавляться к loss и делать свой вклад в градиенты."
   ]
  },
  {
   "cell_type": "code",
   "execution_count": 170,
   "metadata": {
    "scrolled": false
   },
   "outputs": [
    {
     "name": "stdout",
     "output_type": "stream",
     "text": [
      "Checking gradient for FW\n",
      "Gradient check passed!\n",
      "Checking gradient for FB\n",
      "Gradient check passed!\n",
      "Checking gradient for SW\n",
      "Gradient check passed!\n",
      "Checking gradient for SB\n",
      "Gradient check passed!\n"
     ]
    },
    {
     "data": {
      "text/plain": [
       "True"
      ]
     },
     "execution_count": 170,
     "metadata": {},
     "output_type": "execute_result"
    }
   ],
   "source": [
    "# TODO Now implement l2 regularization in the forward and backward pass\n",
    "model_with_reg = TwoLayerNet(n_input = train_X.shape[1], n_output = 10, hidden_layer_size = 3, reg = 1e1)\n",
    "loss_with_reg = model_with_reg.compute_loss_and_gradients(train_X[:2], train_y[:2])\n",
    "assert loss_with_reg > loss and not np.isclose(loss_with_reg, loss), \\\n",
    "    \"Loss with regularization (%2.4f) should be higher than without it (%2.4f)!\" % (loss, loss_with_reg)\n",
    "\n",
    "check_model_gradient(model_with_reg, train_X[:2], train_y[:2])"
   ]
  },
  {
   "cell_type": "markdown",
   "metadata": {},
   "source": [
    "Также реализуем функцию предсказания (вычисления значения) модели на новых данных.\n",
    "\n",
    "Какое значение точности мы ожидаем увидеть до начала тренировки?"
   ]
  },
  {
   "cell_type": "code",
   "execution_count": 171,
   "metadata": {},
   "outputs": [
    {
     "data": {
      "text/plain": [
       "0.1"
      ]
     },
     "execution_count": 171,
     "metadata": {},
     "output_type": "execute_result"
    }
   ],
   "source": [
    "# Finally, implement predict function!\n",
    "\n",
    "# TODO: Implement predict function\n",
    "# What would be the value we expect?\n",
    "multiclass_accuracy(model_with_reg.predict(train_X[:30]), train_y[:30]) "
   ]
  },
  {
   "cell_type": "markdown",
   "metadata": {},
   "source": [
    "# Допишем код для процесса тренировки\n",
    "\n",
    "Если все реализовано корректно, значение функции ошибки должно уменьшаться с каждой эпохой, пусть и медленно. Не беспокойтесь пока про validation accuracy."
   ]
  },
  {
   "cell_type": "code",
   "execution_count": null,
   "metadata": {
    "scrolled": false
   },
   "outputs": [
    {
     "name": "stdout",
     "output_type": "stream",
     "text": [
      "Loss: 2.302029, Train accuracy: 0.196667, val accuracy: 0.206000\n",
      "Loss: 2.301685, Train accuracy: 0.196667, val accuracy: 0.206000\n",
      "Loss: 2.301851, Train accuracy: 0.148222, val accuracy: 0.140000\n",
      "Loss: 2.302623, Train accuracy: 0.196667, val accuracy: 0.206000\n",
      "Loss: 2.302031, Train accuracy: 0.196667, val accuracy: 0.206000\n",
      "Loss: 2.301124, Train accuracy: 0.196667, val accuracy: 0.206000\n",
      "Loss: 2.302831, Train accuracy: 0.196667, val accuracy: 0.206000\n",
      "Loss: 2.301638, Train accuracy: 0.196667, val accuracy: 0.206000\n",
      "Loss: 2.302170, Train accuracy: 0.196667, val accuracy: 0.206000\n",
      "Loss: 2.302117, Train accuracy: 0.196667, val accuracy: 0.206000\n",
      "Loss: 2.302455, Train accuracy: 0.196667, val accuracy: 0.206000\n",
      "Loss: 2.302807, Train accuracy: 0.196667, val accuracy: 0.206000\n"
     ]
    }
   ],
   "source": [
    "model = TwoLayerNet(n_input = train_X.shape[1], n_output = 10, hidden_layer_size = 100, reg = 1e1)\n",
    "dataset = Dataset(train_X, train_y, val_X, val_y)\n",
    "trainer = Trainer(model, dataset, SGD(), learning_rate = 1e-2)\n",
    "\n",
    "# TODO Implement missing pieces in Trainer.fit function\n",
    "# You should expect loss to go down every epoch, even if it's slow\n",
    "loss_history, train_history, val_history = trainer.fit()"
   ]
  },
  {
   "cell_type": "code",
   "execution_count": null,
   "metadata": {},
   "outputs": [],
   "source": [
    "plt.plot(train_history)\n",
    "plt.plot(val_history)"
   ]
  },
  {
   "cell_type": "markdown",
   "metadata": {},
   "source": [
    "# Улучшаем процесс тренировки\n",
    "\n",
    "Мы реализуем несколько ключевых оптимизаций, необходимых для тренировки современных нейросетей."
   ]
  },
  {
   "cell_type": "markdown",
   "metadata": {},
   "source": [
    "## Уменьшение скорости обучения (learning rate decay)\n",
    "\n",
    "Одна из необходимых оптимизаций во время тренировки нейронных сетей - постепенное уменьшение скорости обучения по мере тренировки.\n",
    "\n",
    "Один из стандартных методов - уменьшение скорости обучения (learning rate) каждые N эпох на коэффициент d (часто называемый decay). Значения N и d, как всегда, являются гиперпараметрами и должны подбираться на основе эффективности на проверочных данных (validation data). \n",
    "\n",
    "В нашем случае N будет равным 1."
   ]
  },
  {
   "cell_type": "code",
   "execution_count": 137,
   "metadata": {},
   "outputs": [
    {
     "name": "stdout",
     "output_type": "stream",
     "text": [
      "Loss: 2.275985, Train accuracy: 0.196667, val accuracy: 0.206000\n",
      "Loss: 2.347515, Train accuracy: 0.196667, val accuracy: 0.206000\n",
      "Loss: 2.264348, Train accuracy: 0.196667, val accuracy: 0.206000\n",
      "Loss: 2.287890, Train accuracy: 0.196667, val accuracy: 0.206000\n",
      "Loss: 2.253264, Train accuracy: 0.196667, val accuracy: 0.206000\n",
      "Loss: 2.265011, Train accuracy: 0.196667, val accuracy: 0.206000\n",
      "Loss: 2.212698, Train accuracy: 0.196667, val accuracy: 0.206000\n",
      "Loss: 2.320777, Train accuracy: 0.196667, val accuracy: 0.206000\n",
      "Loss: 2.302624, Train accuracy: 0.196667, val accuracy: 0.206000\n",
      "Loss: 2.311032, Train accuracy: 0.196667, val accuracy: 0.206000\n",
      "Loss: 2.234316, Train accuracy: 0.196667, val accuracy: 0.206000\n",
      "Loss: 2.283390, Train accuracy: 0.196667, val accuracy: 0.206000\n",
      "Loss: 2.353994, Train accuracy: 0.196667, val accuracy: 0.206000\n",
      "Loss: 2.217454, Train accuracy: 0.196667, val accuracy: 0.206000\n",
      "Loss: 2.378711, Train accuracy: 0.196667, val accuracy: 0.206000\n",
      "Loss: 2.256101, Train accuracy: 0.196667, val accuracy: 0.206000\n",
      "Loss: 2.309860, Train accuracy: 0.196667, val accuracy: 0.206000\n",
      "Loss: 2.264767, Train accuracy: 0.196667, val accuracy: 0.206000\n",
      "Loss: 2.276485, Train accuracy: 0.196667, val accuracy: 0.206000\n",
      "Loss: 2.274562, Train accuracy: 0.196667, val accuracy: 0.206000\n"
     ]
    }
   ],
   "source": [
    "# TODO Implement learning rate decay inside Trainer.fit method\n",
    "# Decay should happen once per epoch\n",
    "\n",
    "model = TwoLayerNet(n_input = train_X.shape[1], n_output = 10, hidden_layer_size = 100, reg = 1e-1)\n",
    "dataset = Dataset(train_X, train_y, val_X, val_y)\n",
    "trainer = Trainer(model, dataset, SGD(), learning_rate_decay=0.99)\n",
    "\n",
    "initial_learning_rate = trainer.learning_rate\n",
    "loss_history, train_history, val_history = trainer.fit()\n",
    "\n",
    "assert trainer.learning_rate < initial_learning_rate, \"Learning rate should've been reduced\"\n",
    "assert trainer.learning_rate > 0.5*initial_learning_rate, \"Learning rate shouldn'tve been reduced that much!\""
   ]
  },
  {
   "cell_type": "markdown",
   "metadata": {},
   "source": [
    "# Накопление импульса (Momentum SGD)\n",
    "\n",
    "Другой большой класс оптимизаций - использование более эффективных методов градиентного спуска. Мы реализуем один из них - накопление импульса (Momentum SGD).\n",
    "\n",
    "Этот метод хранит скорость движения, использует градиент для ее изменения на каждом шаге, и изменяет веса пропорционально значению скорости.\n",
    "(Физическая аналогия: Вместо скорости градиенты теперь будут задавать ускорение, но будет присутствовать сила трения.)\n",
    "\n",
    "```\n",
    "velocity = momentum * velocity - learning_rate * gradient \n",
    "w = w + velocity\n",
    "```\n",
    "\n",
    "`momentum` здесь коэффициент затухания, который тоже является гиперпараметром (к счастью, для него часто есть хорошее значение по умолчанию, типичный диапазон -- 0.8-0.99).\n",
    "\n",
    "Несколько полезных ссылок, где метод разбирается более подробно:  \n",
    "http://cs231n.github.io/neural-networks-3/#sgd  \n",
    "https://distill.pub/2017/momentum/"
   ]
  },
  {
   "cell_type": "code",
   "execution_count": 139,
   "metadata": {},
   "outputs": [
    {
     "name": "stdout",
     "output_type": "stream",
     "text": [
      "Loss: 2.325749, Train accuracy: 0.196667, val accuracy: 0.206000\n",
      "Loss: 2.305720, Train accuracy: 0.196667, val accuracy: 0.206000\n",
      "Loss: 2.300966, Train accuracy: 0.196667, val accuracy: 0.206000\n",
      "Loss: 2.275560, Train accuracy: 0.196667, val accuracy: 0.206000\n",
      "Loss: 2.279827, Train accuracy: 0.196667, val accuracy: 0.206000\n",
      "Loss: 2.264813, Train accuracy: 0.196667, val accuracy: 0.206000\n",
      "Loss: 2.274941, Train accuracy: 0.196667, val accuracy: 0.206000\n",
      "Loss: 2.214801, Train accuracy: 0.196667, val accuracy: 0.206000\n",
      "Loss: 2.247568, Train accuracy: 0.196667, val accuracy: 0.206000\n",
      "Loss: 2.292356, Train accuracy: 0.196667, val accuracy: 0.206000\n",
      "Loss: 2.305508, Train accuracy: 0.196667, val accuracy: 0.206000\n",
      "Loss: 2.313459, Train accuracy: 0.196667, val accuracy: 0.206000\n",
      "Loss: 2.293628, Train accuracy: 0.196667, val accuracy: 0.206000\n",
      "Loss: 2.306333, Train accuracy: 0.196667, val accuracy: 0.206000\n",
      "Loss: 2.338054, Train accuracy: 0.196667, val accuracy: 0.206000\n",
      "Loss: 2.277679, Train accuracy: 0.196667, val accuracy: 0.206000\n",
      "Loss: 2.211500, Train accuracy: 0.196667, val accuracy: 0.206000\n",
      "Loss: 2.227843, Train accuracy: 0.196667, val accuracy: 0.206000\n",
      "Loss: 2.250393, Train accuracy: 0.196667, val accuracy: 0.206000\n",
      "Loss: 2.231523, Train accuracy: 0.196667, val accuracy: 0.206000\n"
     ]
    }
   ],
   "source": [
    "# TODO: Implement MomentumSGD.update function in optim.py\n",
    "\n",
    "model = TwoLayerNet(n_input = train_X.shape[1], n_output = 10, hidden_layer_size = 100, reg = 1e-1)\n",
    "dataset = Dataset(train_X, train_y, val_X, val_y)\n",
    "trainer = Trainer(model, dataset, MomentumSGD(), learning_rate=1e-4, learning_rate_decay=0.99)\n",
    "\n",
    "# You should see even better results than before!\n",
    "loss_history, train_history, val_history = trainer.fit()"
   ]
  },
  {
   "cell_type": "markdown",
   "metadata": {},
   "source": [
    "# Ну что, давайте уже тренировать сеть!"
   ]
  },
  {
   "cell_type": "markdown",
   "metadata": {},
   "source": [
    "## Последний тест - переобучимся (overfit) на маленьком наборе данных\n",
    "\n",
    "Хороший способ проверить, все ли реализовано корректно - переобучить сеть на маленьком наборе данных.  \n",
    "Наша модель обладает достаточной мощностью, чтобы приблизить маленький набор данных идеально, поэтому мы ожидаем, что на нем мы быстро дойдем до 100% точности на тренировочном наборе. \n",
    "\n",
    "Если этого не происходит, то где-то была допущена ошибка!"
   ]
  },
  {
   "cell_type": "code",
   "execution_count": 140,
   "metadata": {},
   "outputs": [
    {
     "name": "stdout",
     "output_type": "stream",
     "text": [
      "Loss: 2.343752, Train accuracy: 0.200000, val accuracy: 0.066667\n",
      "Loss: 2.327625, Train accuracy: 0.333333, val accuracy: 0.066667\n",
      "Loss: 2.295253, Train accuracy: 0.333333, val accuracy: 0.066667\n",
      "Loss: 2.296409, Train accuracy: 0.200000, val accuracy: 0.133333\n",
      "Loss: 2.316952, Train accuracy: 0.200000, val accuracy: 0.133333\n",
      "Loss: 2.275498, Train accuracy: 0.200000, val accuracy: 0.133333\n",
      "Loss: 2.230501, Train accuracy: 0.200000, val accuracy: 0.133333\n",
      "Loss: 2.243439, Train accuracy: 0.266667, val accuracy: 0.000000\n",
      "Loss: 2.340395, Train accuracy: 0.400000, val accuracy: 0.000000\n",
      "Loss: 2.022971, Train accuracy: 0.400000, val accuracy: 0.000000\n",
      "Loss: 2.217966, Train accuracy: 0.400000, val accuracy: 0.000000\n",
      "Loss: 1.961698, Train accuracy: 0.400000, val accuracy: 0.000000\n",
      "Loss: 1.779022, Train accuracy: 0.400000, val accuracy: 0.000000\n",
      "Loss: 1.875388, Train accuracy: 0.333333, val accuracy: 0.000000\n",
      "Loss: 1.888327, Train accuracy: 0.333333, val accuracy: 0.000000\n",
      "Loss: 2.176808, Train accuracy: 0.333333, val accuracy: 0.000000\n",
      "Loss: 1.783130, Train accuracy: 0.333333, val accuracy: 0.000000\n",
      "Loss: 1.597415, Train accuracy: 0.400000, val accuracy: 0.000000\n",
      "Loss: 2.343402, Train accuracy: 0.400000, val accuracy: 0.000000\n",
      "Loss: 2.095326, Train accuracy: 0.400000, val accuracy: 0.000000\n",
      "Loss: 1.515220, Train accuracy: 0.400000, val accuracy: 0.000000\n",
      "Loss: 1.742561, Train accuracy: 0.400000, val accuracy: 0.000000\n",
      "Loss: 2.029003, Train accuracy: 0.466667, val accuracy: 0.000000\n",
      "Loss: 2.182846, Train accuracy: 0.466667, val accuracy: 0.066667\n",
      "Loss: 2.009913, Train accuracy: 0.466667, val accuracy: 0.066667\n",
      "Loss: 1.759782, Train accuracy: 0.466667, val accuracy: 0.066667\n",
      "Loss: 1.260230, Train accuracy: 0.466667, val accuracy: 0.000000\n",
      "Loss: 1.648612, Train accuracy: 0.466667, val accuracy: 0.066667\n",
      "Loss: 1.851935, Train accuracy: 0.466667, val accuracy: 0.066667\n",
      "Loss: 1.556981, Train accuracy: 0.466667, val accuracy: 0.000000\n",
      "Loss: 1.776584, Train accuracy: 0.466667, val accuracy: 0.066667\n",
      "Loss: 1.286432, Train accuracy: 0.466667, val accuracy: 0.066667\n",
      "Loss: 1.432096, Train accuracy: 0.600000, val accuracy: 0.066667\n",
      "Loss: 1.545464, Train accuracy: 0.600000, val accuracy: 0.066667\n",
      "Loss: 1.727020, Train accuracy: 0.533333, val accuracy: 0.000000\n",
      "Loss: 1.799550, Train accuracy: 0.666667, val accuracy: 0.066667\n",
      "Loss: 1.524184, Train accuracy: 0.600000, val accuracy: 0.066667\n",
      "Loss: 0.938046, Train accuracy: 0.666667, val accuracy: 0.000000\n",
      "Loss: 1.399459, Train accuracy: 0.666667, val accuracy: 0.066667\n",
      "Loss: 1.396779, Train accuracy: 0.666667, val accuracy: 0.066667\n",
      "Loss: 0.825593, Train accuracy: 0.666667, val accuracy: 0.000000\n",
      "Loss: 1.843381, Train accuracy: 0.666667, val accuracy: 0.066667\n",
      "Loss: 1.350297, Train accuracy: 0.600000, val accuracy: 0.066667\n",
      "Loss: 1.437476, Train accuracy: 0.666667, val accuracy: 0.066667\n",
      "Loss: 1.598362, Train accuracy: 0.733333, val accuracy: 0.066667\n",
      "Loss: 1.439283, Train accuracy: 0.666667, val accuracy: 0.133333\n",
      "Loss: 1.599301, Train accuracy: 0.733333, val accuracy: 0.000000\n",
      "Loss: 1.410281, Train accuracy: 0.800000, val accuracy: 0.066667\n",
      "Loss: 1.348505, Train accuracy: 0.733333, val accuracy: 0.066667\n",
      "Loss: 2.075373, Train accuracy: 0.733333, val accuracy: 0.066667\n",
      "Loss: 1.273152, Train accuracy: 0.733333, val accuracy: 0.066667\n",
      "Loss: 1.590470, Train accuracy: 0.733333, val accuracy: 0.066667\n",
      "Loss: 1.326157, Train accuracy: 0.733333, val accuracy: 0.066667\n",
      "Loss: 1.293809, Train accuracy: 0.733333, val accuracy: 0.133333\n",
      "Loss: 1.037520, Train accuracy: 0.733333, val accuracy: 0.066667\n",
      "Loss: 1.726743, Train accuracy: 0.733333, val accuracy: 0.066667\n",
      "Loss: 1.622501, Train accuracy: 0.733333, val accuracy: 0.066667\n",
      "Loss: 1.494946, Train accuracy: 0.733333, val accuracy: 0.066667\n",
      "Loss: 1.320496, Train accuracy: 0.733333, val accuracy: 0.066667\n",
      "Loss: 1.273407, Train accuracy: 0.733333, val accuracy: 0.066667\n",
      "Loss: 1.220135, Train accuracy: 0.733333, val accuracy: 0.066667\n",
      "Loss: 1.959478, Train accuracy: 0.733333, val accuracy: 0.066667\n",
      "Loss: 1.380691, Train accuracy: 0.733333, val accuracy: 0.066667\n",
      "Loss: 2.014937, Train accuracy: 0.800000, val accuracy: 0.066667\n",
      "Loss: 1.010437, Train accuracy: 0.733333, val accuracy: 0.066667\n",
      "Loss: 1.400439, Train accuracy: 0.733333, val accuracy: 0.066667\n",
      "Loss: 1.595752, Train accuracy: 0.733333, val accuracy: 0.066667\n",
      "Loss: 1.257648, Train accuracy: 0.733333, val accuracy: 0.066667\n",
      "Loss: 1.128637, Train accuracy: 0.800000, val accuracy: 0.066667\n",
      "Loss: 1.544968, Train accuracy: 0.800000, val accuracy: 0.066667\n",
      "Loss: 1.054485, Train accuracy: 0.800000, val accuracy: 0.066667\n",
      "Loss: 1.213413, Train accuracy: 0.800000, val accuracy: 0.066667\n",
      "Loss: 0.981839, Train accuracy: 0.800000, val accuracy: 0.066667\n",
      "Loss: 1.745209, Train accuracy: 0.800000, val accuracy: 0.066667\n",
      "Loss: 1.622470, Train accuracy: 0.800000, val accuracy: 0.066667\n",
      "Loss: 1.384483, Train accuracy: 0.800000, val accuracy: 0.066667\n",
      "Loss: 1.942378, Train accuracy: 0.800000, val accuracy: 0.066667\n",
      "Loss: 1.704726, Train accuracy: 0.800000, val accuracy: 0.066667\n",
      "Loss: 0.935406, Train accuracy: 0.800000, val accuracy: 0.066667\n",
      "Loss: 1.362875, Train accuracy: 0.866667, val accuracy: 0.066667\n",
      "Loss: 1.623114, Train accuracy: 0.866667, val accuracy: 0.066667\n",
      "Loss: 1.239777, Train accuracy: 0.866667, val accuracy: 0.066667\n",
      "Loss: 1.353162, Train accuracy: 0.866667, val accuracy: 0.066667\n",
      "Loss: 1.541505, Train accuracy: 0.866667, val accuracy: 0.066667\n",
      "Loss: 0.972010, Train accuracy: 0.866667, val accuracy: 0.066667\n",
      "Loss: 1.562405, Train accuracy: 0.866667, val accuracy: 0.066667\n",
      "Loss: 1.575613, Train accuracy: 0.866667, val accuracy: 0.066667\n",
      "Loss: 1.440732, Train accuracy: 0.866667, val accuracy: 0.066667\n",
      "Loss: 1.111517, Train accuracy: 0.866667, val accuracy: 0.066667\n",
      "Loss: 1.386099, Train accuracy: 0.866667, val accuracy: 0.066667\n",
      "Loss: 1.249646, Train accuracy: 0.866667, val accuracy: 0.066667\n",
      "Loss: 1.017716, Train accuracy: 0.866667, val accuracy: 0.066667\n",
      "Loss: 1.334421, Train accuracy: 0.933333, val accuracy: 0.066667\n",
      "Loss: 1.028041, Train accuracy: 0.933333, val accuracy: 0.066667\n",
      "Loss: 1.548682, Train accuracy: 0.933333, val accuracy: 0.066667\n",
      "Loss: 1.472602, Train accuracy: 0.933333, val accuracy: 0.066667\n",
      "Loss: 1.092035, Train accuracy: 0.933333, val accuracy: 0.066667\n",
      "Loss: 1.516975, Train accuracy: 0.933333, val accuracy: 0.066667\n",
      "Loss: 1.389675, Train accuracy: 0.933333, val accuracy: 0.066667\n",
      "Loss: 1.367551, Train accuracy: 0.933333, val accuracy: 0.066667\n",
      "Loss: 1.205137, Train accuracy: 0.933333, val accuracy: 0.066667\n",
      "Loss: 1.257595, Train accuracy: 0.933333, val accuracy: 0.066667\n",
      "Loss: 1.013756, Train accuracy: 0.933333, val accuracy: 0.066667\n",
      "Loss: 1.153600, Train accuracy: 1.000000, val accuracy: 0.066667\n",
      "Loss: 1.337648, Train accuracy: 0.933333, val accuracy: 0.000000\n",
      "Loss: 1.070125, Train accuracy: 0.933333, val accuracy: 0.000000\n",
      "Loss: 1.153933, Train accuracy: 0.933333, val accuracy: 0.000000\n",
      "Loss: 1.201393, Train accuracy: 0.933333, val accuracy: 0.000000\n",
      "Loss: 1.163291, Train accuracy: 0.933333, val accuracy: 0.000000\n",
      "Loss: 1.010374, Train accuracy: 0.933333, val accuracy: 0.000000\n",
      "Loss: 1.342115, Train accuracy: 1.000000, val accuracy: 0.000000\n",
      "Loss: 1.237426, Train accuracy: 1.000000, val accuracy: 0.000000\n",
      "Loss: 1.071843, Train accuracy: 0.933333, val accuracy: 0.000000\n",
      "Loss: 1.286365, Train accuracy: 1.000000, val accuracy: 0.000000\n",
      "Loss: 1.291183, Train accuracy: 1.000000, val accuracy: 0.000000\n",
      "Loss: 1.211606, Train accuracy: 1.000000, val accuracy: 0.000000\n",
      "Loss: 1.376824, Train accuracy: 1.000000, val accuracy: 0.000000\n",
      "Loss: 1.147295, Train accuracy: 1.000000, val accuracy: 0.000000\n",
      "Loss: 1.472861, Train accuracy: 1.000000, val accuracy: 0.000000\n",
      "Loss: 1.396954, Train accuracy: 1.000000, val accuracy: 0.000000\n",
      "Loss: 1.166280, Train accuracy: 1.000000, val accuracy: 0.000000\n",
      "Loss: 1.140918, Train accuracy: 1.000000, val accuracy: 0.000000\n",
      "Loss: 1.397240, Train accuracy: 1.000000, val accuracy: 0.000000\n",
      "Loss: 1.151470, Train accuracy: 1.000000, val accuracy: 0.000000\n",
      "Loss: 1.434550, Train accuracy: 1.000000, val accuracy: 0.000000\n",
      "Loss: 1.376650, Train accuracy: 1.000000, val accuracy: 0.000000\n",
      "Loss: 1.501683, Train accuracy: 1.000000, val accuracy: 0.000000\n",
      "Loss: 1.395265, Train accuracy: 1.000000, val accuracy: 0.000000\n"
     ]
    },
    {
     "name": "stdout",
     "output_type": "stream",
     "text": [
      "Loss: 1.321575, Train accuracy: 1.000000, val accuracy: 0.000000\n",
      "Loss: 1.256851, Train accuracy: 1.000000, val accuracy: 0.000000\n",
      "Loss: 1.699719, Train accuracy: 1.000000, val accuracy: 0.000000\n",
      "Loss: 1.374518, Train accuracy: 1.000000, val accuracy: 0.000000\n",
      "Loss: 1.229740, Train accuracy: 1.000000, val accuracy: 0.000000\n",
      "Loss: 1.413949, Train accuracy: 1.000000, val accuracy: 0.000000\n",
      "Loss: 1.497112, Train accuracy: 1.000000, val accuracy: 0.000000\n",
      "Loss: 1.224909, Train accuracy: 1.000000, val accuracy: 0.000000\n",
      "Loss: 1.097271, Train accuracy: 1.000000, val accuracy: 0.000000\n",
      "Loss: 1.382258, Train accuracy: 1.000000, val accuracy: 0.000000\n",
      "Loss: 1.432667, Train accuracy: 1.000000, val accuracy: 0.000000\n",
      "Loss: 1.190271, Train accuracy: 1.000000, val accuracy: 0.000000\n",
      "Loss: 1.500038, Train accuracy: 1.000000, val accuracy: 0.000000\n",
      "Loss: 1.192143, Train accuracy: 1.000000, val accuracy: 0.000000\n",
      "Loss: 1.343891, Train accuracy: 1.000000, val accuracy: 0.000000\n",
      "Loss: 1.303164, Train accuracy: 1.000000, val accuracy: 0.000000\n",
      "Loss: 1.325883, Train accuracy: 1.000000, val accuracy: 0.000000\n",
      "Loss: 1.149420, Train accuracy: 1.000000, val accuracy: 0.000000\n",
      "Loss: 1.281538, Train accuracy: 1.000000, val accuracy: 0.000000\n",
      "Loss: 1.328833, Train accuracy: 1.000000, val accuracy: 0.000000\n",
      "Loss: 1.110321, Train accuracy: 1.000000, val accuracy: 0.000000\n",
      "Loss: 1.210977, Train accuracy: 1.000000, val accuracy: 0.000000\n"
     ]
    }
   ],
   "source": [
    "data_size = 15\n",
    "model = TwoLayerNet(n_input = train_X.shape[1], n_output = 10, hidden_layer_size = 100, reg = 1e-1)\n",
    "dataset = Dataset(train_X[:data_size], train_y[:data_size], val_X[:data_size], val_y[:data_size])\n",
    "trainer = Trainer(model, dataset, SGD(), learning_rate=1e-1, num_epochs=150, batch_size=5)\n",
    "\n",
    "# You should expect this to reach 1.0 training accuracy \n",
    "loss_history, train_history, val_history = trainer.fit()"
   ]
  },
  {
   "cell_type": "markdown",
   "metadata": {},
   "source": [
    "Теперь найдем гипепараметры, для которых этот процесс сходится быстрее.\n",
    "Если все реализовано корректно, то существуют параметры, при которых процесс сходится в **20** эпох или еще быстрее.\n",
    "Найдите их!"
   ]
  },
  {
   "cell_type": "code",
   "execution_count": 154,
   "metadata": {
    "scrolled": true
   },
   "outputs": [
    {
     "name": "stdout",
     "output_type": "stream",
     "text": [
      "Loss: 2.372273, Train accuracy: 0.333333, val accuracy: 0.066667\n",
      "Loss: 2.212883, Train accuracy: 0.200000, val accuracy: 0.066667\n",
      "Loss: 2.030213, Train accuracy: 0.200000, val accuracy: 0.066667\n",
      "Loss: 1.726996, Train accuracy: 0.333333, val accuracy: 0.066667\n",
      "Loss: 1.371601, Train accuracy: 0.333333, val accuracy: 0.000000\n",
      "Loss: 1.706280, Train accuracy: 0.466667, val accuracy: 0.000000\n",
      "Loss: 2.447543, Train accuracy: 0.400000, val accuracy: 0.066667\n",
      "Loss: 2.442478, Train accuracy: 0.533333, val accuracy: 0.000000\n",
      "Loss: 3.226474, Train accuracy: 0.533333, val accuracy: 0.066667\n",
      "Loss: 2.368619, Train accuracy: 0.600000, val accuracy: 0.000000\n",
      "Loss: 2.391761, Train accuracy: 0.666667, val accuracy: 0.000000\n",
      "Loss: 2.258004, Train accuracy: 0.666667, val accuracy: 0.000000\n",
      "Loss: 0.711118, Train accuracy: 0.733333, val accuracy: 0.000000\n",
      "Loss: 0.005993, Train accuracy: 0.800000, val accuracy: 0.000000\n",
      "Loss: 0.125232, Train accuracy: 0.800000, val accuracy: 0.000000\n",
      "Loss: 1.858549, Train accuracy: 0.866667, val accuracy: 0.000000\n",
      "Loss: 0.009880, Train accuracy: 0.933333, val accuracy: 0.000000\n",
      "Loss: 0.008476, Train accuracy: 0.933333, val accuracy: 0.000000\n",
      "Loss: 0.007332, Train accuracy: 1.000000, val accuracy: 0.000000\n",
      "Loss: 1.000447, Train accuracy: 1.000000, val accuracy: 0.000000\n"
     ]
    }
   ],
   "source": [
    "# Now, tweak some hyper parameters and make it train to 1.0 accuracy in 20 epochs or less\n",
    "\n",
    "model = TwoLayerNet(n_input = train_X.shape[1], n_output = 10, hidden_layer_size = 185, reg = 1e-4)\n",
    "dataset = Dataset(train_X[:data_size], train_y[:data_size], val_X[:data_size], val_y[:data_size])\n",
    "# TODO: Change any hyperparamers or optimizators to reach training accuracy in 20 epochs\n",
    "trainer = Trainer(model, dataset, SGD(), learning_rate=1e-1, num_epochs=20, batch_size=2)\n",
    "\n",
    "loss_history, train_history, val_history = trainer.fit()"
   ]
  },
  {
   "cell_type": "markdown",
   "metadata": {},
   "source": [
    "# Итак, основное мероприятие!\n",
    "\n",
    "Натренируйте лучшую нейросеть! Можно добавлять и изменять параметры, менять количество нейронов в слоях сети и как угодно экспериментировать. \n",
    "\n",
    "Добейтесь точности лучше **60%** на validation set."
   ]
  },
  {
   "cell_type": "code",
   "execution_count": 160,
   "metadata": {
    "scrolled": true
   },
   "outputs": [
    {
     "name": "stdout",
     "output_type": "stream",
     "text": [
      "Loss: 2.223070, Train accuracy: 0.196667, val accuracy: 0.206000\n",
      "Loss: 2.281448, Train accuracy: 0.196667, val accuracy: 0.206000\n",
      "Loss: 2.172007, Train accuracy: 0.196667, val accuracy: 0.206000\n",
      "Loss: 2.191891, Train accuracy: 0.196667, val accuracy: 0.206000\n",
      "Loss: 2.114960, Train accuracy: 0.196667, val accuracy: 0.206000\n",
      "Loss: 2.525348, Train accuracy: 0.196667, val accuracy: 0.206000\n",
      "Loss: 2.079972, Train accuracy: 0.196667, val accuracy: 0.206000\n",
      "Loss: 2.262971, Train accuracy: 0.196667, val accuracy: 0.206000\n",
      "Loss: 1.932908, Train accuracy: 0.196667, val accuracy: 0.206000\n",
      "Loss: 2.175518, Train accuracy: 0.196667, val accuracy: 0.206000\n",
      "Loss: 2.231760, Train accuracy: 0.196667, val accuracy: 0.206000\n",
      "Loss: 2.268753, Train accuracy: 0.196667, val accuracy: 0.206000\n",
      "Loss: 2.432842, Train accuracy: 0.196667, val accuracy: 0.206000\n",
      "Loss: 2.094657, Train accuracy: 0.199222, val accuracy: 0.209000\n",
      "Loss: 2.228744, Train accuracy: 0.216667, val accuracy: 0.223000\n",
      "Loss: 2.116597, Train accuracy: 0.237222, val accuracy: 0.242000\n",
      "Loss: 2.242339, Train accuracy: 0.249111, val accuracy: 0.251000\n",
      "Loss: 2.086061, Train accuracy: 0.262000, val accuracy: 0.257000\n",
      "Loss: 1.899928, Train accuracy: 0.270111, val accuracy: 0.270000\n",
      "Loss: 2.182510, Train accuracy: 0.278333, val accuracy: 0.283000\n",
      "Loss: 2.362968, Train accuracy: 0.293889, val accuracy: 0.301000\n",
      "Loss: 1.837092, Train accuracy: 0.313444, val accuracy: 0.323000\n",
      "Loss: 1.730833, Train accuracy: 0.329556, val accuracy: 0.335000\n",
      "Loss: 2.025937, Train accuracy: 0.358000, val accuracy: 0.358000\n",
      "Loss: 2.195995, Train accuracy: 0.379667, val accuracy: 0.379000\n",
      "Loss: 2.044078, Train accuracy: 0.394111, val accuracy: 0.382000\n",
      "Loss: 1.524012, Train accuracy: 0.402222, val accuracy: 0.391000\n",
      "Loss: 1.823107, Train accuracy: 0.419111, val accuracy: 0.403000\n",
      "Loss: 1.538523, Train accuracy: 0.435889, val accuracy: 0.424000\n",
      "Loss: 1.841803, Train accuracy: 0.442889, val accuracy: 0.428000\n",
      "Loss: 1.517186, Train accuracy: 0.454556, val accuracy: 0.447000\n",
      "Loss: 1.270068, Train accuracy: 0.466444, val accuracy: 0.458000\n",
      "Loss: 1.773220, Train accuracy: 0.480444, val accuracy: 0.483000\n",
      "Loss: 1.437237, Train accuracy: 0.499000, val accuracy: 0.495000\n",
      "Loss: 1.565979, Train accuracy: 0.510889, val accuracy: 0.502000\n",
      "Loss: 1.556270, Train accuracy: 0.523333, val accuracy: 0.523000\n",
      "Loss: 0.956294, Train accuracy: 0.531000, val accuracy: 0.528000\n",
      "Loss: 1.402337, Train accuracy: 0.551444, val accuracy: 0.548000\n",
      "Loss: 1.847523, Train accuracy: 0.563444, val accuracy: 0.554000\n",
      "Loss: 1.224668, Train accuracy: 0.579111, val accuracy: 0.566000\n",
      "Loss: 1.430651, Train accuracy: 0.591444, val accuracy: 0.575000\n",
      "Loss: 1.411135, Train accuracy: 0.602111, val accuracy: 0.578000\n",
      "Loss: 0.951737, Train accuracy: 0.610333, val accuracy: 0.595000\n",
      "Loss: 1.384284, Train accuracy: 0.620222, val accuracy: 0.595000\n",
      "Loss: 1.576386, Train accuracy: 0.620778, val accuracy: 0.601000\n",
      "Loss: 2.252067, Train accuracy: 0.628889, val accuracy: 0.605000\n",
      "Loss: 1.230668, Train accuracy: 0.636222, val accuracy: 0.618000\n",
      "Loss: 0.840818, Train accuracy: 0.643111, val accuracy: 0.628000\n",
      "Loss: 1.162678, Train accuracy: 0.644778, val accuracy: 0.622000\n",
      "Loss: 1.424186, Train accuracy: 0.654778, val accuracy: 0.629000\n",
      "Loss: 1.103807, Train accuracy: 0.662778, val accuracy: 0.640000\n",
      "Loss: 1.099099, Train accuracy: 0.665444, val accuracy: 0.645000\n",
      "Loss: 1.406048, Train accuracy: 0.665222, val accuracy: 0.647000\n",
      "Loss: 1.275305, Train accuracy: 0.673889, val accuracy: 0.659000\n",
      "Loss: 1.214839, Train accuracy: 0.677889, val accuracy: 0.655000\n",
      "Loss: 1.176257, Train accuracy: 0.680111, val accuracy: 0.661000\n",
      "Loss: 0.976107, Train accuracy: 0.685778, val accuracy: 0.659000\n",
      "Loss: 1.092704, Train accuracy: 0.687778, val accuracy: 0.670000\n",
      "Loss: 0.912216, Train accuracy: 0.690556, val accuracy: 0.677000\n",
      "Loss: 1.299069, Train accuracy: 0.696333, val accuracy: 0.674000\n",
      "Loss: 0.848978, Train accuracy: 0.697333, val accuracy: 0.679000\n",
      "Loss: 1.277637, Train accuracy: 0.704111, val accuracy: 0.680000\n",
      "Loss: 0.856409, Train accuracy: 0.701889, val accuracy: 0.685000\n",
      "Loss: 1.551489, Train accuracy: 0.705667, val accuracy: 0.689000\n",
      "Loss: 1.466283, Train accuracy: 0.711444, val accuracy: 0.686000\n",
      "Loss: 0.875151, Train accuracy: 0.710556, val accuracy: 0.693000\n",
      "Loss: 0.337374, Train accuracy: 0.712889, val accuracy: 0.695000\n",
      "Loss: 1.143079, Train accuracy: 0.713556, val accuracy: 0.700000\n",
      "Loss: 1.299145, Train accuracy: 0.721556, val accuracy: 0.698000\n",
      "Loss: 0.907802, Train accuracy: 0.721556, val accuracy: 0.705000\n",
      "Loss: 1.249950, Train accuracy: 0.724889, val accuracy: 0.707000\n",
      "Loss: 0.823644, Train accuracy: 0.724333, val accuracy: 0.709000\n",
      "Loss: 0.939056, Train accuracy: 0.729444, val accuracy: 0.701000\n",
      "Loss: 0.783220, Train accuracy: 0.730333, val accuracy: 0.709000\n",
      "Loss: 1.259063, Train accuracy: 0.732444, val accuracy: 0.703000\n",
      "Loss: 0.651988, Train accuracy: 0.736111, val accuracy: 0.711000\n",
      "Loss: 0.899110, Train accuracy: 0.736556, val accuracy: 0.714000\n",
      "Loss: 1.558558, Train accuracy: 0.739222, val accuracy: 0.707000\n",
      "Loss: 0.597125, Train accuracy: 0.741667, val accuracy: 0.714000\n",
      "Loss: 1.388189, Train accuracy: 0.746667, val accuracy: 0.718000\n",
      "Loss: 1.413842, Train accuracy: 0.746333, val accuracy: 0.707000\n",
      "Loss: 2.165251, Train accuracy: 0.751000, val accuracy: 0.720000\n",
      "Loss: 0.933782, Train accuracy: 0.748000, val accuracy: 0.710000\n",
      "Loss: 1.345836, Train accuracy: 0.750556, val accuracy: 0.715000\n",
      "Loss: 0.813450, Train accuracy: 0.751444, val accuracy: 0.713000\n",
      "Loss: 1.390873, Train accuracy: 0.755333, val accuracy: 0.712000\n",
      "Loss: 0.720094, Train accuracy: 0.757222, val accuracy: 0.714000\n",
      "Loss: 0.669124, Train accuracy: 0.755556, val accuracy: 0.719000\n",
      "Loss: 0.440983, Train accuracy: 0.760889, val accuracy: 0.718000\n",
      "Loss: 0.703500, Train accuracy: 0.762111, val accuracy: 0.718000\n",
      "Loss: 0.780797, Train accuracy: 0.767556, val accuracy: 0.724000\n",
      "Loss: 0.956977, Train accuracy: 0.768444, val accuracy: 0.724000\n",
      "Loss: 1.219376, Train accuracy: 0.766889, val accuracy: 0.721000\n",
      "Loss: 1.012771, Train accuracy: 0.772111, val accuracy: 0.724000\n",
      "Loss: 1.159408, Train accuracy: 0.770778, val accuracy: 0.716000\n",
      "Loss: 0.947707, Train accuracy: 0.770778, val accuracy: 0.718000\n",
      "Loss: 0.822445, Train accuracy: 0.772889, val accuracy: 0.721000\n",
      "Loss: 0.978648, Train accuracy: 0.777444, val accuracy: 0.726000\n",
      "Loss: 1.253412, Train accuracy: 0.778111, val accuracy: 0.720000\n",
      "Loss: 1.032041, Train accuracy: 0.778111, val accuracy: 0.725000\n",
      "Loss: 0.448285, Train accuracy: 0.778778, val accuracy: 0.728000\n",
      "Loss: 0.917230, Train accuracy: 0.781667, val accuracy: 0.721000\n",
      "Loss: 0.544688, Train accuracy: 0.779000, val accuracy: 0.724000\n",
      "Loss: 1.211438, Train accuracy: 0.783222, val accuracy: 0.727000\n",
      "Loss: 1.076715, Train accuracy: 0.785778, val accuracy: 0.729000\n",
      "Loss: 0.663460, Train accuracy: 0.785333, val accuracy: 0.725000\n",
      "Loss: 1.004985, Train accuracy: 0.784667, val accuracy: 0.715000\n",
      "Loss: 1.377773, Train accuracy: 0.787667, val accuracy: 0.723000\n",
      "Loss: 0.992897, Train accuracy: 0.788667, val accuracy: 0.728000\n",
      "Loss: 0.853609, Train accuracy: 0.788333, val accuracy: 0.726000\n",
      "Loss: 1.127561, Train accuracy: 0.793111, val accuracy: 0.728000\n",
      "Loss: 1.230515, Train accuracy: 0.794667, val accuracy: 0.725000\n",
      "Loss: 0.964003, Train accuracy: 0.793444, val accuracy: 0.728000\n",
      "Loss: 1.084761, Train accuracy: 0.796778, val accuracy: 0.728000\n",
      "Loss: 0.536951, Train accuracy: 0.798778, val accuracy: 0.733000\n",
      "Loss: 0.726144, Train accuracy: 0.801556, val accuracy: 0.739000\n",
      "Loss: 0.812803, Train accuracy: 0.799222, val accuracy: 0.737000\n",
      "Loss: 0.618398, Train accuracy: 0.800667, val accuracy: 0.742000\n",
      "Loss: 0.696897, Train accuracy: 0.799333, val accuracy: 0.740000\n",
      "Loss: 0.643079, Train accuracy: 0.804000, val accuracy: 0.744000\n",
      "Loss: 0.737584, Train accuracy: 0.806778, val accuracy: 0.735000\n",
      "Loss: 0.800529, Train accuracy: 0.806556, val accuracy: 0.743000\n",
      "Loss: 1.384385, Train accuracy: 0.807000, val accuracy: 0.742000\n",
      "Loss: 0.657067, Train accuracy: 0.807667, val accuracy: 0.746000\n",
      "Loss: 0.703695, Train accuracy: 0.807778, val accuracy: 0.743000\n",
      "Loss: 0.842794, Train accuracy: 0.811000, val accuracy: 0.746000\n",
      "Loss: 0.786070, Train accuracy: 0.809444, val accuracy: 0.749000\n"
     ]
    },
    {
     "name": "stdout",
     "output_type": "stream",
     "text": [
      "Loss: 0.926602, Train accuracy: 0.811889, val accuracy: 0.752000\n",
      "Loss: 0.744389, Train accuracy: 0.814556, val accuracy: 0.750000\n",
      "Loss: 0.508631, Train accuracy: 0.816667, val accuracy: 0.745000\n",
      "Loss: 0.449283, Train accuracy: 0.816667, val accuracy: 0.752000\n",
      "Loss: 0.566321, Train accuracy: 0.816778, val accuracy: 0.749000\n",
      "Loss: 0.484248, Train accuracy: 0.819444, val accuracy: 0.750000\n",
      "Loss: 0.918041, Train accuracy: 0.820222, val accuracy: 0.757000\n",
      "Loss: 0.876053, Train accuracy: 0.820556, val accuracy: 0.748000\n",
      "Loss: 0.808106, Train accuracy: 0.820778, val accuracy: 0.755000\n",
      "Loss: 0.597930, Train accuracy: 0.824444, val accuracy: 0.753000\n",
      "Loss: 0.645779, Train accuracy: 0.822111, val accuracy: 0.755000\n",
      "Loss: 0.348129, Train accuracy: 0.823222, val accuracy: 0.756000\n",
      "Loss: 1.207486, Train accuracy: 0.823444, val accuracy: 0.758000\n",
      "Loss: 0.314031, Train accuracy: 0.826111, val accuracy: 0.757000\n",
      "Loss: 1.004947, Train accuracy: 0.825778, val accuracy: 0.752000\n",
      "Loss: 0.481765, Train accuracy: 0.825222, val accuracy: 0.756000\n",
      "Loss: 0.372180, Train accuracy: 0.830889, val accuracy: 0.756000\n",
      "Loss: 0.836150, Train accuracy: 0.827333, val accuracy: 0.751000\n",
      "Loss: 1.105573, Train accuracy: 0.831222, val accuracy: 0.757000\n",
      "Loss: 0.903748, Train accuracy: 0.831778, val accuracy: 0.751000\n",
      "Loss: 1.147575, Train accuracy: 0.830556, val accuracy: 0.751000\n",
      "Loss: 0.923747, Train accuracy: 0.831000, val accuracy: 0.755000\n",
      "Loss: 0.796668, Train accuracy: 0.829889, val accuracy: 0.752000\n",
      "Loss: 1.019764, Train accuracy: 0.831778, val accuracy: 0.755000\n",
      "Loss: 0.763633, Train accuracy: 0.835111, val accuracy: 0.750000\n",
      "Loss: 1.455540, Train accuracy: 0.838778, val accuracy: 0.757000\n",
      "Loss: 0.721218, Train accuracy: 0.837222, val accuracy: 0.750000\n",
      "Loss: 0.868779, Train accuracy: 0.840667, val accuracy: 0.752000\n",
      "Loss: 0.722021, Train accuracy: 0.841778, val accuracy: 0.759000\n",
      "Loss: 0.415857, Train accuracy: 0.841556, val accuracy: 0.764000\n",
      "Loss: 1.088012, Train accuracy: 0.841111, val accuracy: 0.760000\n",
      "Loss: 0.738698, Train accuracy: 0.842444, val accuracy: 0.757000\n",
      "Loss: 0.439261, Train accuracy: 0.842889, val accuracy: 0.756000\n",
      "Loss: 0.901486, Train accuracy: 0.844556, val accuracy: 0.761000\n",
      "Loss: 0.516903, Train accuracy: 0.847444, val accuracy: 0.758000\n",
      "Loss: 0.368736, Train accuracy: 0.847889, val accuracy: 0.760000\n",
      "Loss: 0.686388, Train accuracy: 0.846333, val accuracy: 0.761000\n",
      "Loss: 0.909201, Train accuracy: 0.848667, val accuracy: 0.759000\n",
      "Loss: 1.637490, Train accuracy: 0.848556, val accuracy: 0.761000\n",
      "Loss: 0.606200, Train accuracy: 0.851333, val accuracy: 0.760000\n",
      "Loss: 0.738029, Train accuracy: 0.850667, val accuracy: 0.757000\n",
      "Loss: 0.689555, Train accuracy: 0.853222, val accuracy: 0.760000\n",
      "Loss: 0.621484, Train accuracy: 0.853444, val accuracy: 0.759000\n",
      "Loss: 0.695948, Train accuracy: 0.854222, val accuracy: 0.756000\n",
      "Loss: 0.745135, Train accuracy: 0.854111, val accuracy: 0.764000\n",
      "Loss: 0.720159, Train accuracy: 0.856667, val accuracy: 0.764000\n",
      "Loss: 1.042335, Train accuracy: 0.854778, val accuracy: 0.758000\n",
      "Loss: 0.807554, Train accuracy: 0.858778, val accuracy: 0.755000\n",
      "Loss: 0.738945, Train accuracy: 0.856444, val accuracy: 0.759000\n",
      "Loss: 0.680230, Train accuracy: 0.859333, val accuracy: 0.763000\n",
      "Loss: 0.421031, Train accuracy: 0.858778, val accuracy: 0.750000\n",
      "Loss: 0.650088, Train accuracy: 0.860333, val accuracy: 0.757000\n",
      "Loss: 0.904621, Train accuracy: 0.860444, val accuracy: 0.760000\n",
      "Loss: 1.343180, Train accuracy: 0.859778, val accuracy: 0.757000\n",
      "Loss: 0.704849, Train accuracy: 0.860556, val accuracy: 0.757000\n",
      "Loss: 0.631558, Train accuracy: 0.862333, val accuracy: 0.761000\n",
      "Loss: 1.607336, Train accuracy: 0.866000, val accuracy: 0.759000\n",
      "Loss: 0.525842, Train accuracy: 0.863444, val accuracy: 0.762000\n",
      "Loss: 0.509467, Train accuracy: 0.864889, val accuracy: 0.756000\n",
      "Loss: 0.894786, Train accuracy: 0.864000, val accuracy: 0.758000\n",
      "Loss: 1.373574, Train accuracy: 0.864889, val accuracy: 0.762000\n",
      "Loss: 0.648010, Train accuracy: 0.868333, val accuracy: 0.759000\n",
      "Loss: 0.945289, Train accuracy: 0.867556, val accuracy: 0.762000\n",
      "Loss: 0.446008, Train accuracy: 0.869444, val accuracy: 0.760000\n",
      "Loss: 1.012452, Train accuracy: 0.869667, val accuracy: 0.761000\n",
      "Loss: 0.358519, Train accuracy: 0.869000, val accuracy: 0.764000\n",
      "Loss: 0.915996, Train accuracy: 0.871000, val accuracy: 0.760000\n",
      "Loss: 0.481464, Train accuracy: 0.869778, val accuracy: 0.766000\n",
      "Loss: 0.690476, Train accuracy: 0.866778, val accuracy: 0.767000\n",
      "Loss: 0.816596, Train accuracy: 0.871000, val accuracy: 0.764000\n",
      "Loss: 1.249099, Train accuracy: 0.872556, val accuracy: 0.766000\n",
      "Loss: 0.569671, Train accuracy: 0.872333, val accuracy: 0.766000\n",
      "Loss: 0.494144, Train accuracy: 0.870667, val accuracy: 0.760000\n",
      "best validation accuracy achieved: 0.767000\n"
     ]
    }
   ],
   "source": [
    "# Let's train the best one-hidden-layer network we can\n",
    "\n",
    "learning_rates = 1e-3\n",
    "reg_strength = 1e-3\n",
    "learning_rate_decay = 0.999\n",
    "hidden_layer_size = 128\n",
    "num_epochs = 200\n",
    "batch_size = 32\n",
    "\n",
    "best_classifier = None\n",
    "best_val_accuracy = None\n",
    "\n",
    "loss_history = []\n",
    "train_history = []\n",
    "val_history = []\n",
    "\n",
    "# TODO find the best hyperparameters to train the network\n",
    "# Don't hesitate to add new values to the arrays above, perform experiments, use any tricks you want\n",
    "# You should expect to get to at least 40% of valudation accuracy\n",
    "# Save loss/train/history of the best classifier to the variables above\n",
    "\n",
    "dataset = Dataset(train_X, train_y, val_X, val_y)\n",
    "model = TwoLayerNet(n_input = train_X.shape[1], n_output = 10, \n",
    "                                        hidden_layer_size = hidden_layer_size, \n",
    "                                        reg = reg_strength)\n",
    "\n",
    "trainer = Trainer(model, dataset, MomentumSGD(), \n",
    "                                      num_epochs = num_epochs, \n",
    "                                      batch_size = batch_size, \n",
    "                                      learning_rate = learning_rates, \n",
    "                                      learning_rate_decay = learning_rate_decay)\n",
    "\n",
    "loss_history, train_history, val_history = trainer.fit()\n",
    "\n",
    "print('best validation accuracy achieved: %f' % max(val_history))"
   ]
  },
  {
   "cell_type": "code",
   "execution_count": 161,
   "metadata": {},
   "outputs": [
    {
     "data": {
      "text/plain": [
       "[<matplotlib.lines.Line2D at 0x1d880005730>]"
      ]
     },
     "execution_count": 161,
     "metadata": {},
     "output_type": "execute_result"
    },
    {
     "data": {
      "image/png": "[encoded data removed]",
      "text/plain": [
       "<Figure size 1500x700 with 2 Axes>"
      ]
     },
     "metadata": {},
     "output_type": "display_data"
    }
   ],
   "source": [
    "plt.figure(figsize=(15, 7))\n",
    "plt.subplot(211)\n",
    "plt.title(\"Loss\")\n",
    "plt.plot(loss_history)\n",
    "plt.subplot(212)\n",
    "plt.title(\"Train/validation accuracy\")\n",
    "plt.plot(train_history)\n",
    "plt.plot(val_history)"
   ]
  },
  {
   "cell_type": "markdown",
   "metadata": {},
   "source": [
    "# Как обычно, посмотрим, как наша лучшая модель работает на тестовых данных"
   ]
  },
  {
   "cell_type": "code",
   "execution_count": 163,
   "metadata": {},
   "outputs": [
    {
     "name": "stdout",
     "output_type": "stream",
     "text": [
      "Neural net test set accuracy: 0.731000\n"
     ]
    }
   ],
   "source": [
    "test_pred = model.predict(test_X)\n",
    "test_accuracy = multiclass_accuracy(test_pred, test_y)\n",
    "print('Neural net test set accuracy: %f' % (test_accuracy, ))"
   ]
  }
 ],
 "metadata": {
  "kernelspec": {
   "display_name": "Python 3 (ipykernel)",
   "language": "python",
   "name": "python3"
  },
  "language_info": {
   "codemirror_mode": {
    "name": "ipython",
    "version": 3
   },
   "file_extension": ".py",
   "mimetype": "text/x-python",
   "name": "python",
   "nbconvert_exporter": "python",
   "pygments_lexer": "ipython3",
   "version": "3.9.7"
  }
 },
 "nbformat": 4,
 "nbformat_minor": 2
}
