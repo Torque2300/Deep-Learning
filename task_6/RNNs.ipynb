{
  "cells": [
    {
      "cell_type": "markdown",
      "metadata": {
        "id": "JYWw00vtHV-3"
      },
      "source": [
        "# Задание 6: Рекуррентные нейронные сети (RNNs)\n",
        "\n",
        "Это задание адаптиповано из Deep NLP Course at ABBYY (https://github.com/DanAnastasyev/DeepNLP-Course) с разрешения автора - Даниила Анастасьева. Спасибо ему огромное!"
      ]
    },
    {
      "cell_type": "code",
      "execution_count": 112,
      "metadata": {
        "colab": {
          "base_uri": "https://localhost:8080/"
        },
        "id": "P59NYU98GCb9",
        "outputId": "147137ac-216e-49f4-9e39-fddb23195ebe"
      },
      "outputs": [
        {
          "output_type": "stream",
          "name": "stdout",
          "text": [
            "  Preparing metadata (setup.py) ... \u001b[?25l\u001b[?25hdone\n",
            "  \u001b[1;31merror\u001b[0m: \u001b[1msubprocess-exited-with-error\u001b[0m\n",
            "  \n",
            "  \u001b[31m×\u001b[0m \u001b[32mpython setup.py bdist_wheel\u001b[0m did not run successfully.\n",
            "  \u001b[31m│\u001b[0m exit code: \u001b[1;36m1\u001b[0m\n",
            "  \u001b[31m╰─>\u001b[0m See above for output.\n",
            "  \n",
            "  \u001b[1;35mnote\u001b[0m: This error originates from a subprocess, and is likely not a problem with pip.\n",
            "  Building wheel for scikit-learn (setup.py) ... \u001b[?25lerror\n",
            "\u001b[31m  ERROR: Failed building wheel for scikit-learn\u001b[0m\u001b[31m\n",
            "\u001b[0m\u001b[31mERROR: Could not build wheels for scikit-learn, which is required to install pyproject.toml-based projects\u001b[0m\u001b[31m\n",
            "\u001b[0m\u001b[?25h"
          ]
        }
      ],
      "source": [
        "!pip3 -qq install torch\n",
        "!pip3 -qq install bokeh==0.13.0\n",
        "!pip3 -qq install gensim==3.6.0\n",
        "!pip3 -qq install nltk\n",
        "!pip3 -qq install scikit-learn==0.20.2"
      ]
    },
    {
      "cell_type": "code",
      "execution_count": null,
      "metadata": {
        "id": "Q60Laj1uIAzU"
      },
      "outputs": [],
      "source": [
        "!pip3 -qq install torch\n",
        "!pip3 -qq install bokeh\n",
        "!pip3 -qq install gensim\n",
        "!pip3 -qq install scikit-learn"
      ]
    },
    {
      "cell_type": "code",
      "execution_count": 113,
      "metadata": {
        "id": "8sVtGHmA9aBM"
      },
      "outputs": [],
      "source": [
        "import numpy as np\n",
        "\n",
        "import torch\n",
        "import torch.nn as nn\n",
        "import torch.nn.functional as F\n",
        "import torch.optim as optim\n",
        "\n",
        "\n",
        "if torch.cuda.is_available():\n",
        "    from torch.cuda import FloatTensor, LongTensor\n",
        "else:\n",
        "    from torch import FloatTensor, LongTensor\n",
        "\n",
        "np.random.seed(42)"
      ]
    },
    {
      "cell_type": "markdown",
      "metadata": {
        "id": "-6CNKM3b4hT1"
      },
      "source": [
        "# Рекуррентные нейронные сети (RNNs)"
      ]
    },
    {
      "cell_type": "markdown",
      "metadata": {
        "id": "O_XkoGNQUeGm"
      },
      "source": [
        "## POS Tagging"
      ]
    },
    {
      "cell_type": "markdown",
      "metadata": {
        "id": "QFEtWrS_4rUs"
      },
      "source": [
        "Мы рассмотрим применение рекуррентных сетей к задаче sequence labeling (последняя картинка).\n",
        "\n",
        "![RNN types](http://karpathy.github.io/assets/rnn/diags.jpeg)\n",
        "\n",
        "*From [The Unreasonable Effectiveness of Recurrent Neural Networks](http://karpathy.github.io/2015/05/21/rnn-effectiveness/)*\n",
        "\n",
        "Самые популярные примеры для такой постановки задачи - Part-of-Speech Tagging и Named Entity Recognition.\n",
        "\n",
        "Мы порешаем сейчас POS Tagging для английского.\n",
        "\n",
        "Будем работать с таким набором тегов:\n",
        "- ADJ - adjective (new, good, high, ...)\n",
        "- ADP - adposition (on, of, at, ...)\n",
        "- ADV - adverb (really, already, still, ...)\n",
        "- CONJ - conjunction (and, or, but, ...)\n",
        "- DET - determiner, article (the, a, some, ...)\n",
        "- NOUN - noun (year, home, costs, ...)\n",
        "- NUM - numeral (twenty-four, fourth, 1991, ...)\n",
        "- PRT - particle (at, on, out, ...)\n",
        "- PRON - pronoun (he, their, her, ...)\n",
        "- VERB - verb (is, say, told, ...)\n",
        "- . - punctuation marks (. , ;)\n",
        "- X - other (ersatz, esprit, dunno, ...)"
      ]
    },
    {
      "cell_type": "markdown",
      "metadata": {
        "id": "EPIkKdFlHB-X"
      },
      "source": [
        "Скачаем данные:"
      ]
    },
    {
      "cell_type": "code",
      "execution_count": 114,
      "metadata": {
        "colab": {
          "base_uri": "https://localhost:8080/"
        },
        "id": "TiA2dGmgF1rW",
        "outputId": "cad339b8-b357-4f16-baee-353732a73029"
      },
      "outputs": [
        {
          "output_type": "stream",
          "name": "stderr",
          "text": [
            "[nltk_data] Downloading package brown to /root/nltk_data...\n",
            "[nltk_data]   Package brown is already up-to-date!\n",
            "[nltk_data] Downloading package universal_tagset to /root/nltk_data...\n",
            "[nltk_data]   Package universal_tagset is already up-to-date!\n"
          ]
        }
      ],
      "source": [
        "import nltk\n",
        "from sklearn.model_selection import train_test_split\n",
        "\n",
        "nltk.download('brown')\n",
        "nltk.download('universal_tagset')\n",
        "\n",
        "data = nltk.corpus.brown.tagged_sents(tagset='universal')"
      ]
    },
    {
      "cell_type": "markdown",
      "metadata": {
        "id": "d93g_swyJA_V"
      },
      "source": [
        "Пример размеченного предложения:"
      ]
    },
    {
      "cell_type": "code",
      "execution_count": 115,
      "metadata": {
        "colab": {
          "base_uri": "https://localhost:8080/"
        },
        "id": "QstS4NO0L97c",
        "outputId": "2d448ad6-a049-411f-cdbf-9b90a5613bfe"
      },
      "outputs": [
        {
          "output_type": "stream",
          "name": "stdout",
          "text": [
            "Dallas         \tNOUN\n",
            "may            \tVERB\n",
            "get            \tVERB\n",
            "to             \tPRT\n",
            "hear           \tVERB\n",
            "a              \tDET\n",
            "debate         \tNOUN\n",
            "on             \tADP\n",
            "horse          \tNOUN\n",
            "race           \tNOUN\n",
            "parimutuels    \tNOUN\n",
            "soon           \tADV\n",
            "between        \tADP\n",
            "Reps.          \tNOUN\n",
            "V.             \tNOUN\n",
            "E.             \tNOUN\n",
            "(              \t.\n",
            "Red            \tNOUN\n",
            ")              \t.\n",
            "Berry          \tNOUN\n",
            "and            \tCONJ\n",
            "Joe            \tNOUN\n",
            "Ratcliff       \tNOUN\n",
            ".              \t.\n"
          ]
        }
      ],
      "source": [
        "for word, tag in data[122]:\n",
        "    print('{:15}\\t{}'.format(word, tag))\n"
      ]
    },
    {
      "cell_type": "code",
      "execution_count": 116,
      "metadata": {
        "colab": {
          "base_uri": "https://localhost:8080/"
        },
        "id": "Xrid1NEGIw8G",
        "outputId": "cfc9df09-023c-40f7-931b-d9327fb99217"
      },
      "outputs": [
        {
          "output_type": "stream",
          "name": "stdout",
          "text": [
            "<class 'list'> <class 'nltk.corpus.reader.util.ConcatenatedCorpusView'>\n"
          ]
        }
      ],
      "source": [
        "print(type(data[122]),  type(data))"
      ]
    },
    {
      "cell_type": "markdown",
      "metadata": {
        "id": "epdW8u_YXcAv"
      },
      "source": [
        "Построим разбиение на train/val/test - наконец-то, всё как у нормальных людей.\n",
        "\n",
        "На train будем учиться, по val - подбирать параметры и делать всякие early stopping, а на test - принимать модель по ее финальному качеству."
      ]
    },
    {
      "cell_type": "code",
      "execution_count": 117,
      "metadata": {
        "colab": {
          "base_uri": "https://localhost:8080/"
        },
        "id": "xTai8Ta0lgwL",
        "outputId": "bda1593c-ed94-465e-828e-47bb6c750c42"
      },
      "outputs": [
        {
          "output_type": "stream",
          "name": "stdout",
          "text": [
            "Words count in train set: 739769\n",
            "Words count in val set: 130954\n",
            "Words count in test set: 290469\n"
          ]
        }
      ],
      "source": [
        "train_data, test_data = train_test_split(data, test_size=0.25, random_state=42)\n",
        "train_data, val_data = train_test_split(train_data, test_size=0.15, random_state=42)\n",
        "\n",
        "print('Words count in train set:', sum(len(sent) for sent in train_data))\n",
        "print('Words count in val set:', sum(len(sent) for sent in val_data))\n",
        "print('Words count in test set:', sum(len(sent) for sent in test_data))"
      ]
    },
    {
      "cell_type": "markdown",
      "metadata": {
        "id": "eChdLNGtXyP0"
      },
      "source": [
        "Построим маппинги из слов в индекс и из тега в индекс:\n"
      ]
    },
    {
      "cell_type": "code",
      "execution_count": 118,
      "metadata": {
        "colab": {
          "base_uri": "https://localhost:8080/"
        },
        "id": "pCjwwDs6Zq9x",
        "outputId": "c46da5f1-ef1b-4c2e-ed1f-de592c70d64c"
      },
      "outputs": [
        {
          "output_type": "stream",
          "name": "stdout",
          "text": [
            "Unique words in train = 45441. Tags = {'ADP', 'X', 'PRON', 'NOUN', 'ADV', '.', 'CONJ', 'NUM', 'VERB', 'ADJ', 'PRT', 'DET'}\n"
          ]
        }
      ],
      "source": [
        "words = {word for sample in train_data for word, tag in sample}\n",
        "word2ind = {word: ind + 1 for ind, word in enumerate(words)}\n",
        "word2ind['<pad>'] = 0\n",
        "\n",
        "tags = {tag for sample in train_data for word, tag in sample}\n",
        "tag2ind = {tag: ind + 1 for ind, tag in enumerate(tags)}\n",
        "tag2ind['<pad>'] = 0\n",
        "\n",
        "print('Unique words in train = {}. Tags = {}'.format(len(word2ind), tags))"
      ]
    },
    {
      "cell_type": "code",
      "execution_count": 119,
      "metadata": {
        "colab": {
          "base_uri": "https://localhost:8080/",
          "height": 445
        },
        "id": "URC1B2nvPGFt",
        "outputId": "942860c9-405f-4e7e-e9fa-56aead37e9a6"
      },
      "outputs": [
        {
          "output_type": "display_data",
          "data": {
            "text/plain": [
              "<Figure size 1000x500 with 1 Axes>"
            ],
            "image/png": "[encoded data removed]"
          },
          "metadata": {}
        }
      ],
      "source": [
        "import matplotlib.pyplot as plt\n",
        "%matplotlib inline\n",
        "\n",
        "from collections import Counter\n",
        "\n",
        "tag_distribution = Counter(tag for sample in train_data for _, tag in sample)\n",
        "tag_distribution = [tag_distribution[tag] for tag in tags]\n",
        "\n",
        "plt.figure(figsize=(10, 5))\n",
        "\n",
        "bar_width = 0.35\n",
        "plt.bar(np.arange(len(tags)), tag_distribution, bar_width, align='center', alpha=0.5)\n",
        "plt.xticks(np.arange(len(tags)), tags)\n",
        "    \n",
        "plt.show()"
      ]
    },
    {
      "cell_type": "markdown",
      "metadata": {
        "id": "gArQwbzWWkgi"
      },
      "source": [
        "## Бейзлайн\n",
        "\n",
        "Какой самый простой теггер можно придумать? Давайте просто запоминать, какие теги самые вероятные для слова (или для последовательности):\n",
        "\n",
        "![tag-context](https://www.nltk.org/images/tag-context.png)  \n",
        "*From [Categorizing and Tagging Words, nltk](https://www.nltk.org/book/ch05.html)*\n",
        "\n",
        "На картинке показано, что для предсказания $t_n$ используются два предыдущих предсказанных тега + текущее слово. По корпусу считаются вероятность для $P(t_n| w_n, t_{n-1}, t_{n-2})$, выбирается тег с максимальной вероятностью.\n",
        "\n",
        "Более аккуратно такая идея реализована в Hidden Markov Models: по тренировочному корпусу вычисляются вероятности $P(w_n| t_n), P(t_n|t_{n-1}, t_{n-2})$ и максимизируется их произведение.\n",
        "\n",
        "Простейший вариант - униграммная модель, учитывающая только слово:"
      ]
    },
    {
      "cell_type": "code",
      "execution_count": 120,
      "metadata": {
        "colab": {
          "base_uri": "https://localhost:8080/"
        },
        "id": "5rWmSToIaeAo",
        "outputId": "f645f768-7e6a-42cf-c460-6b3362884ae2"
      },
      "outputs": [
        {
          "output_type": "stream",
          "name": "stderr",
          "text": [
            "<ipython-input-120-747c80ba0bc0>:6: DeprecationWarning: \n",
            "  Function evaluate() has been deprecated.  Use accuracy(gold)\n",
            "  instead.\n",
            "  print('Accuracy of unigram tagger = {:.2%}'.format(unigram_tagger.evaluate(test_data)))\n"
          ]
        },
        {
          "output_type": "stream",
          "name": "stdout",
          "text": [
            "Accuracy of unigram tagger = 92.62%\n"
          ]
        }
      ],
      "source": [
        "import nltk\n",
        "\n",
        "default_tagger = nltk.DefaultTagger('NN')\n",
        "\n",
        "unigram_tagger = nltk.UnigramTagger(train_data, backoff=default_tagger)\n",
        "print('Accuracy of unigram tagger = {:.2%}'.format(unigram_tagger.evaluate(test_data)))"
      ]
    },
    {
      "cell_type": "markdown",
      "metadata": {
        "id": "07Ymb_MkbWsF"
      },
      "source": [
        "Добавим вероятности переходов:"
      ]
    },
    {
      "cell_type": "code",
      "execution_count": 121,
      "metadata": {
        "colab": {
          "base_uri": "https://localhost:8080/"
        },
        "id": "vjz_Rk0bbMyH",
        "outputId": "e494fc52-2d54-47d1-b537-43c13ac3bd20"
      },
      "outputs": [
        {
          "output_type": "stream",
          "name": "stderr",
          "text": [
            "<ipython-input-121-0f47def21c45>:2: DeprecationWarning: \n",
            "  Function evaluate() has been deprecated.  Use accuracy(gold)\n",
            "  instead.\n",
            "  print('Accuracy of bigram tagger = {:.2%}'.format(bigram_tagger.evaluate(test_data)))\n"
          ]
        },
        {
          "output_type": "stream",
          "name": "stdout",
          "text": [
            "Accuracy of bigram tagger = 93.42%\n"
          ]
        }
      ],
      "source": [
        "bigram_tagger = nltk.BigramTagger(train_data, backoff=unigram_tagger)\n",
        "print('Accuracy of bigram tagger = {:.2%}'.format(bigram_tagger.evaluate(test_data)))"
      ]
    },
    {
      "cell_type": "markdown",
      "metadata": {
        "id": "uWMw6QHvbaDd"
      },
      "source": [
        "Обратите внимание, что `backoff` важен:"
      ]
    },
    {
      "cell_type": "code",
      "execution_count": 122,
      "metadata": {
        "id": "8XCuxEBVbOY_",
        "colab": {
          "base_uri": "https://localhost:8080/"
        },
        "outputId": "14dca01b-614c-4499-e66e-d51187623e19"
      },
      "outputs": [
        {
          "output_type": "stream",
          "name": "stderr",
          "text": [
            "<ipython-input-122-89f0185880b7>:2: DeprecationWarning: \n",
            "  Function evaluate() has been deprecated.  Use accuracy(gold)\n",
            "  instead.\n",
            "  print('Accuracy of trigram tagger = {:.2%}'.format(trigram_tagger.evaluate(test_data)))\n"
          ]
        },
        {
          "output_type": "stream",
          "name": "stdout",
          "text": [
            "Accuracy of trigram tagger = 23.33%\n"
          ]
        }
      ],
      "source": [
        "trigram_tagger = nltk.TrigramTagger(train_data)\n",
        "print('Accuracy of trigram tagger = {:.2%}'.format(trigram_tagger.evaluate(test_data)))"
      ]
    },
    {
      "cell_type": "markdown",
      "metadata": {
        "id": "4t3xyYd__8d-"
      },
      "source": [
        "## Увеличиваем контекст с рекуррентными сетями\n",
        "\n",
        "Униграмная модель работает на удивление хорошо, но мы же собрались учить сеточки.\n",
        "\n",
        "Омонимия - основная причина, почему униграмная модель плоха:  \n",
        "*“he cashed a check at the **bank**”*  \n",
        "vs  \n",
        "*“he sat on the **bank** of the river”*\n",
        "\n",
        "Поэтому нам очень полезно учитывать контекст при предсказании тега.\n",
        "\n",
        "Воспользуемся LSTM - он умеет работать с контекстом очень даже хорошо:\n",
        "\n",
        "![](https://image.ibb.co/kgmoff/Baseline-Tagger.png)\n",
        "\n",
        "Синим показано выделение фичей из слова, LSTM оранжевенький - он строит эмбеддинги слов с учетом контекста, а дальше зелененькая логистическая регрессия делает предсказания тегов."
      ]
    },
    {
      "cell_type": "code",
      "execution_count": 123,
      "metadata": {
        "id": "RtRbz1SwgEqc"
      },
      "outputs": [],
      "source": [
        "def convert_data(data, word2ind, tag2ind):\n",
        "    X = [[word2ind.get(word, 0) for word, _ in sample] for sample in data]\n",
        "    y = [[tag2ind[tag] for _, tag in sample] for sample in data]\n",
        "    \n",
        "    return X, y\n",
        "\n",
        "X_train, y_train = convert_data(train_data, word2ind, tag2ind)\n",
        "X_val, y_val = convert_data(val_data, word2ind, tag2ind)\n",
        "X_test, y_test = convert_data(test_data, word2ind, tag2ind)"
      ]
    },
    {
      "cell_type": "code",
      "execution_count": 124,
      "metadata": {
        "id": "DhsTKZalfih6"
      },
      "outputs": [],
      "source": [
        "def iterate_batches(data, batch_size):\n",
        "    X, y = data\n",
        "    n_samples = len(X)\n",
        "\n",
        "    indices = np.arange(n_samples)\n",
        "    np.random.shuffle(indices)\n",
        "    \n",
        "    for start in range(0, n_samples, batch_size):\n",
        "        end = min(start + batch_size, n_samples)\n",
        "        \n",
        "        batch_indices = indices[start:end]\n",
        "        \n",
        "        max_sent_len = max(len(X[ind]) for ind in batch_indices)\n",
        "        X_batch = np.zeros((max_sent_len, len(batch_indices)))\n",
        "        y_batch = np.zeros((max_sent_len, len(batch_indices)))\n",
        "        \n",
        "        for batch_ind, sample_ind in enumerate(batch_indices):\n",
        "            X_batch[:len(X[sample_ind]), batch_ind] = X[sample_ind]\n",
        "            y_batch[:len(y[sample_ind]), batch_ind] = y[sample_ind]\n",
        "            \n",
        "        yield X_batch, y_batch"
      ]
    },
    {
      "cell_type": "code",
      "execution_count": 125,
      "metadata": {
        "id": "l4XsRII5kW5x",
        "colab": {
          "base_uri": "https://localhost:8080/"
        },
        "outputId": "8233db6d-0346-42f6-a294-c2f211b554c4"
      },
      "outputs": [
        {
          "output_type": "execute_result",
          "data": {
            "text/plain": [
              "((32, 4), (32, 4))"
            ]
          },
          "metadata": {},
          "execution_count": 125
        }
      ],
      "source": [
        "X_batch, y_batch = next(iterate_batches((X_train, y_train), 4))\n",
        "\n",
        "X_batch.shape, y_batch.shape"
      ]
    },
    {
      "cell_type": "markdown",
      "metadata": {
        "id": "C5I9E9P6eFYv"
      },
      "source": [
        "**Задание** Реализуйте `LSTMTagger`:"
      ]
    },
    {
      "cell_type": "code",
      "execution_count": 126,
      "metadata": {
        "id": "WVEHju54d68T"
      },
      "outputs": [],
      "source": [
        "class LSTMTagger(nn.Module):\n",
        "    def __init__(self, vocab_size, tagset_size, word_emb_dim=100, lstm_hidden_dim=128, lstm_layers_count=1):\n",
        "        super().__init__()\n",
        "       \n",
        "        self.word_embeddings = nn.Embedding(vocab_size, word_emb_dim)\n",
        "\n",
        "        self.lstm = nn.LSTM(word_emb_dim, lstm_hidden_dim, lstm_layers_count)\n",
        "\n",
        "        self.hidden2tag = nn.Linear(lstm_hidden_dim, tagset_size)\n",
        "\n",
        "\n",
        "    def forward(self, inputs):\n",
        "        embeds = self.word_embeddings(inputs)\n",
        "        lstm_output, _ = self.lstm(embeds)\n",
        "        layer_output = self.hidden2tag(lstm_output)\n",
        "        return layer_output"
      ]
    },
    {
      "cell_type": "markdown",
      "metadata": {
        "id": "q_HA8zyheYGH"
      },
      "source": [
        "**Задание** Научитесь считать accuracy и loss (а заодно проверьте, что модель работает)"
      ]
    },
    {
      "cell_type": "code",
      "execution_count": 127,
      "metadata": {
        "id": "mqajkovz2Zw7",
        "colab": {
          "base_uri": "https://localhost:8080/"
        },
        "outputId": "749c9d09-9fc6-4cdc-9613-6d6b016a0663"
      },
      "outputs": [
        {
          "output_type": "stream",
          "name": "stdout",
          "text": [
            "tensor(0.0435)\n"
          ]
        }
      ],
      "source": [
        "model = LSTMTagger(\n",
        "    vocab_size=len(word2ind),\n",
        "    tagset_size=len(tag2ind)\n",
        ")\n",
        "\n",
        "X_batch, y_batch = torch.LongTensor(X_batch), torch.LongTensor(y_batch)\n",
        "\n",
        "logits = model(X_batch)\n",
        "\n",
        "_, indices = torch.max(logits, dim=2)\n",
        "correct = torch.sum((indices == y_batch) & (y_batch != 0))\n",
        "total = torch.sum(y_batch != 0)\n",
        "acc = correct / total\n",
        "# print(correct, total, acc)\n",
        "print(acc)"
      ]
    },
    {
      "cell_type": "code",
      "execution_count": 128,
      "metadata": {
        "id": "GMUyUm1hgpe3",
        "colab": {
          "base_uri": "https://localhost:8080/"
        },
        "outputId": "92f33201-fd05-478d-ac75-0df88c86e3b3"
      },
      "outputs": [
        {
          "output_type": "stream",
          "name": "stdout",
          "text": [
            "torch.Size([32, 4, 13])\n",
            "torch.Size([32, 4])\n",
            "torch.Size([128, 13])\n",
            "torch.Size([128])\n"
          ]
        }
      ],
      "source": [
        "criterion = nn.CrossEntropyLoss()\n",
        "print(logits.size())\n",
        "print(y_batch.size())\n",
        "print(logits.reshape(-1, 13).size())\n",
        "print(y_batch.reshape(-1).size())\n",
        "loss = criterion(logits.reshape(-1, 13), y_batch.reshape(-1))"
      ]
    },
    {
      "cell_type": "markdown",
      "metadata": {
        "id": "nSgV3NPUpcjH"
      },
      "source": [
        "**Задание** Вставьте эти вычисление в функцию:"
      ]
    },
    {
      "cell_type": "code",
      "execution_count": 129,
      "metadata": {
        "id": "FprPQ0gllo7b"
      },
      "outputs": [],
      "source": [
        "import math\n",
        "from tqdm import tqdm\n",
        "\n",
        "\n",
        "def do_epoch(model, criterion, data, batch_size, optimizer=None, name=None):\n",
        "    epoch_loss = 0\n",
        "    correct_count = 0\n",
        "    sum_count = 0\n",
        "    \n",
        "    is_train = not optimizer is None\n",
        "    name = name or ''\n",
        "    model.train(is_train)\n",
        "    \n",
        "    batches_count = math.ceil(len(data[0]) / batch_size)\n",
        "    \n",
        "    with torch.autograd.set_grad_enabled(is_train):\n",
        "        with tqdm(total=batches_count) as progress_bar:\n",
        "            for i, (X_batch, y_batch) in enumerate(iterate_batches(data, batch_size)):\n",
        "                X_batch, y_batch = LongTensor(X_batch), LongTensor(y_batch)\n",
        "                logits = model(X_batch)\n",
        "\n",
        "                loss = criterion(logits.reshape(-1, 13), y_batch.reshape(-1))\n",
        "\n",
        "                epoch_loss += loss.item()\n",
        "\n",
        "                if optimizer:\n",
        "                    optimizer.zero_grad()\n",
        "                    loss.backward()\n",
        "                    optimizer.step()\n",
        "\n",
        "                _, indices = torch.max(logits, -1)\n",
        "                # correct = torch.sum((indices == y_batch) & (y_batch != 0))\n",
        "                # total = torch.sum(y_batch != 0)\n",
        "                # acc = correct / total\n",
        "\n",
        "                cur_correct_count, cur_sum_count = torch.sum((indices == y_batch) & (y_batch != 0)), torch.sum(y_batch != 0)\n",
        "\n",
        "                correct_count += cur_correct_count\n",
        "                sum_count += cur_sum_count\n",
        "\n",
        "                progress_bar.update()\n",
        "                progress_bar.set_description('{:>5s} Loss = {:.5f}, Accuracy = {:.2%}'.format(\n",
        "                    name, loss.item(), cur_correct_count / cur_sum_count)\n",
        "                )\n",
        "                \n",
        "            progress_bar.set_description('{:>5s} Loss = {:.5f}, Accuracy = {:.2%}'.format(\n",
        "                name, epoch_loss / batches_count, correct_count / sum_count)\n",
        "            )\n",
        "\n",
        "    return epoch_loss / batches_count, correct_count / sum_count\n",
        "\n",
        "\n",
        "def fit(model, criterion, optimizer, train_data, epochs_count=1, batch_size=32,\n",
        "        val_data=None, val_batch_size=None):\n",
        "        \n",
        "    if not val_data is None and val_batch_size is None:\n",
        "        val_batch_size = batch_size\n",
        "        \n",
        "    for epoch in range(epochs_count):\n",
        "        name_prefix = '[{} / {}] '.format(epoch + 1, epochs_count)\n",
        "        train_loss, train_acc = do_epoch(model, criterion, train_data, batch_size, optimizer, name_prefix + 'Train:')\n",
        "        \n",
        "        if not val_data is None:\n",
        "            val_loss, val_acc = do_epoch(model, criterion, val_data, val_batch_size, None, name_prefix + '  Val:')"
      ]
    },
    {
      "cell_type": "code",
      "execution_count": 130,
      "metadata": {
        "id": "Pqfbeh1ltEYa",
        "colab": {
          "base_uri": "https://localhost:8080/"
        },
        "outputId": "78b9b2f9-1507-4693-988f-0cdf220fb15d"
      },
      "outputs": [
        {
          "output_type": "stream",
          "name": "stderr",
          "text": [
            "[1 / 50] Train: Loss = 0.31545, Accuracy = 71.62%: 100%|██████████| 572/572 [00:05<00:00, 107.68it/s]\n",
            "[1 / 50]   Val: Loss = 0.10488, Accuracy = 84.99%: 100%|██████████| 13/13 [00:00<00:00, 89.88it/s]\n",
            "[2 / 50] Train: Loss = 0.10055, Accuracy = 90.04%: 100%|██████████| 572/572 [00:05<00:00, 107.22it/s]\n",
            "[2 / 50]   Val: Loss = 0.07311, Accuracy = 89.57%: 100%|██████████| 13/13 [00:00<00:00, 74.43it/s]\n",
            "[3 / 50] Train: Loss = 0.06744, Accuracy = 93.25%: 100%|██████████| 572/572 [00:05<00:00, 100.46it/s]\n",
            "[3 / 50]   Val: Loss = 0.06506, Accuracy = 91.30%: 100%|██████████| 13/13 [00:00<00:00, 84.90it/s]\n",
            "[4 / 50] Train: Loss = 0.05027, Accuracy = 94.87%: 100%|██████████| 572/572 [00:05<00:00, 110.34it/s]\n",
            "[4 / 50]   Val: Loss = 0.06429, Accuracy = 92.21%: 100%|██████████| 13/13 [00:00<00:00, 90.51it/s]\n",
            "[5 / 50] Train: Loss = 0.04037, Accuracy = 95.89%: 100%|██████████| 572/572 [00:05<00:00, 101.74it/s]\n",
            "[5 / 50]   Val: Loss = 0.06366, Accuracy = 92.67%: 100%|██████████| 13/13 [00:00<00:00, 75.83it/s]\n",
            "[6 / 50] Train: Loss = 0.03277, Accuracy = 96.60%: 100%|██████████| 572/572 [00:05<00:00, 104.36it/s]\n",
            "[6 / 50]   Val: Loss = 0.06076, Accuracy = 93.02%: 100%|██████████| 13/13 [00:00<00:00, 86.42it/s]\n",
            "[7 / 50] Train: Loss = 0.02730, Accuracy = 97.16%: 100%|██████████| 572/572 [00:05<00:00, 110.51it/s]\n",
            "[7 / 50]   Val: Loss = 0.06241, Accuracy = 93.16%: 100%|██████████| 13/13 [00:00<00:00, 86.20it/s]\n",
            "[8 / 50] Train: Loss = 0.02257, Accuracy = 97.63%: 100%|██████████| 572/572 [00:06<00:00, 94.95it/s] \n",
            "[8 / 50]   Val: Loss = 0.06569, Accuracy = 93.25%: 100%|██████████| 13/13 [00:00<00:00, 82.91it/s]\n",
            "[9 / 50] Train: Loss = 0.01885, Accuracy = 98.02%: 100%|██████████| 572/572 [00:05<00:00, 109.93it/s]\n",
            "[9 / 50]   Val: Loss = 0.07383, Accuracy = 93.26%: 100%|██████████| 13/13 [00:00<00:00, 86.76it/s]\n",
            "[10 / 50] Train: Loss = 0.01575, Accuracy = 98.36%: 100%|██████████| 572/572 [00:05<00:00, 105.40it/s]\n",
            "[10 / 50]   Val: Loss = 0.07704, Accuracy = 93.28%: 100%|██████████| 13/13 [00:00<00:00, 84.15it/s]\n",
            "[11 / 50] Train: Loss = 0.01291, Accuracy = 98.66%: 100%|██████████| 572/572 [00:05<00:00, 98.62it/s] \n",
            "[11 / 50]   Val: Loss = 0.06930, Accuracy = 93.24%: 100%|██████████| 13/13 [00:00<00:00, 84.19it/s]\n",
            "[12 / 50] Train: Loss = 0.01079, Accuracy = 98.90%: 100%|██████████| 572/572 [00:05<00:00, 107.98it/s]\n",
            "[12 / 50]   Val: Loss = 0.07799, Accuracy = 93.20%: 100%|██████████| 13/13 [00:00<00:00, 87.66it/s]\n",
            "[13 / 50] Train: Loss = 0.00869, Accuracy = 99.12%: 100%|██████████| 572/572 [00:05<00:00, 98.97it/s] \n",
            "[13 / 50]   Val: Loss = 0.07612, Accuracy = 93.06%: 100%|██████████| 13/13 [00:00<00:00, 72.97it/s]\n",
            "[14 / 50] Train: Loss = 0.00712, Accuracy = 99.31%: 100%|██████████| 572/572 [00:06<00:00, 90.59it/s]\n",
            "[14 / 50]   Val: Loss = 0.07802, Accuracy = 92.96%: 100%|██████████| 13/13 [00:00<00:00, 82.05it/s]\n",
            "[15 / 50] Train: Loss = 0.00576, Accuracy = 99.44%: 100%|██████████| 572/572 [00:05<00:00, 105.41it/s]\n",
            "[15 / 50]   Val: Loss = 0.08848, Accuracy = 92.84%: 100%|██████████| 13/13 [00:00<00:00, 80.18it/s]\n",
            "[16 / 50] Train: Loss = 0.00462, Accuracy = 99.57%: 100%|██████████| 572/572 [00:05<00:00, 97.85it/s] \n",
            "[16 / 50]   Val: Loss = 0.08944, Accuracy = 92.84%: 100%|██████████| 13/13 [00:00<00:00, 86.54it/s]\n",
            "[17 / 50] Train: Loss = 0.00383, Accuracy = 99.65%: 100%|██████████| 572/572 [00:05<00:00, 108.95it/s]\n",
            "[17 / 50]   Val: Loss = 0.09293, Accuracy = 92.80%: 100%|██████████| 13/13 [00:00<00:00, 88.08it/s]\n",
            "[18 / 50] Train: Loss = 0.00318, Accuracy = 99.71%: 100%|██████████| 572/572 [00:05<00:00, 103.16it/s]\n",
            "[18 / 50]   Val: Loss = 0.10754, Accuracy = 92.68%: 100%|██████████| 13/13 [00:00<00:00, 76.27it/s]\n",
            "[19 / 50] Train: Loss = 0.00281, Accuracy = 99.74%: 100%|██████████| 572/572 [00:05<00:00, 102.14it/s]\n",
            "[19 / 50]   Val: Loss = 0.10366, Accuracy = 92.64%: 100%|██████████| 13/13 [00:00<00:00, 85.34it/s]\n",
            "[20 / 50] Train: Loss = 0.00241, Accuracy = 99.79%: 100%|██████████| 572/572 [00:05<00:00, 108.70it/s]\n",
            "[20 / 50]   Val: Loss = 0.10973, Accuracy = 92.60%: 100%|██████████| 13/13 [00:00<00:00, 86.21it/s]\n",
            "[21 / 50] Train: Loss = 0.00241, Accuracy = 99.77%: 100%|██████████| 572/572 [00:05<00:00, 97.68it/s]\n",
            "[21 / 50]   Val: Loss = 0.10580, Accuracy = 92.66%: 100%|██████████| 13/13 [00:00<00:00, 75.04it/s]\n",
            "[22 / 50] Train: Loss = 0.00201, Accuracy = 99.80%: 100%|██████████| 572/572 [00:05<00:00, 105.07it/s]\n",
            "[22 / 50]   Val: Loss = 0.11934, Accuracy = 92.66%: 100%|██████████| 13/13 [00:00<00:00, 92.61it/s]\n",
            "[23 / 50] Train: Loss = 0.00180, Accuracy = 99.83%: 100%|██████████| 572/572 [00:05<00:00, 106.79it/s]\n",
            "[23 / 50]   Val: Loss = 0.11512, Accuracy = 92.67%: 100%|██████████| 13/13 [00:00<00:00, 66.58it/s]\n",
            "[24 / 50] Train: Loss = 0.00176, Accuracy = 99.83%: 100%|██████████| 572/572 [00:06<00:00, 86.05it/s] \n",
            "[24 / 50]   Val: Loss = 0.12797, Accuracy = 92.68%: 100%|██████████| 13/13 [00:00<00:00, 90.80it/s]\n",
            "[25 / 50] Train: Loss = 0.00182, Accuracy = 99.81%: 100%|██████████| 572/572 [00:05<00:00, 107.52it/s]\n",
            "[25 / 50]   Val: Loss = 0.11911, Accuracy = 92.56%: 100%|██████████| 13/13 [00:00<00:00, 86.74it/s]\n",
            "[26 / 50] Train: Loss = 0.00173, Accuracy = 99.82%: 100%|██████████| 572/572 [00:05<00:00, 98.80it/s]\n",
            "[26 / 50]   Val: Loss = 0.12631, Accuracy = 92.49%: 100%|██████████| 13/13 [00:00<00:00, 77.90it/s]\n",
            "[27 / 50] Train: Loss = 0.00190, Accuracy = 99.80%: 100%|██████████| 572/572 [00:05<00:00, 100.11it/s]\n",
            "[27 / 50]   Val: Loss = 0.12922, Accuracy = 92.53%: 100%|██████████| 13/13 [00:00<00:00, 82.77it/s]\n",
            "[28 / 50] Train: Loss = 0.00182, Accuracy = 99.80%: 100%|██████████| 572/572 [00:05<00:00, 107.74it/s]\n",
            "[28 / 50]   Val: Loss = 0.12522, Accuracy = 92.62%: 100%|██████████| 13/13 [00:00<00:00, 83.80it/s]\n",
            "[29 / 50] Train: Loss = 0.00155, Accuracy = 99.83%: 100%|██████████| 572/572 [00:05<00:00, 95.76it/s]\n",
            "[29 / 50]   Val: Loss = 0.13170, Accuracy = 92.59%: 100%|██████████| 13/13 [00:00<00:00, 73.34it/s]\n",
            "[30 / 50] Train: Loss = 0.00148, Accuracy = 99.84%: 100%|██████████| 572/572 [00:05<00:00, 106.83it/s]\n",
            "[30 / 50]   Val: Loss = 0.13645, Accuracy = 92.52%: 100%|██████████| 13/13 [00:00<00:00, 84.68it/s]\n",
            "[31 / 50] Train: Loss = 0.00148, Accuracy = 99.83%: 100%|██████████| 572/572 [00:05<00:00, 105.26it/s]\n",
            "[31 / 50]   Val: Loss = 0.13678, Accuracy = 92.54%: 100%|██████████| 13/13 [00:00<00:00, 74.18it/s]\n",
            "[32 / 50] Train: Loss = 0.00169, Accuracy = 99.82%: 100%|██████████| 572/572 [00:06<00:00, 94.73it/s]\n",
            "[32 / 50]   Val: Loss = 0.13312, Accuracy = 92.50%: 100%|██████████| 13/13 [00:00<00:00, 87.82it/s]\n",
            "[33 / 50] Train: Loss = 0.00185, Accuracy = 99.80%: 100%|██████████| 572/572 [00:05<00:00, 105.15it/s]\n",
            "[33 / 50]   Val: Loss = 0.13696, Accuracy = 92.67%: 100%|██████████| 13/13 [00:00<00:00, 85.11it/s]\n",
            "[34 / 50] Train: Loss = 0.00155, Accuracy = 99.83%: 100%|██████████| 572/572 [00:05<00:00, 102.22it/s]\n",
            "[34 / 50]   Val: Loss = 0.14802, Accuracy = 92.56%: 100%|██████████| 13/13 [00:00<00:00, 74.01it/s]\n",
            "[35 / 50] Train: Loss = 0.00141, Accuracy = 99.84%: 100%|██████████| 572/572 [00:05<00:00, 98.19it/s] \n",
            "[35 / 50]   Val: Loss = 0.13212, Accuracy = 92.67%: 100%|██████████| 13/13 [00:00<00:00, 85.57it/s]\n",
            "[36 / 50] Train: Loss = 0.00133, Accuracy = 99.84%: 100%|██████████| 572/572 [00:05<00:00, 106.46it/s]\n",
            "[36 / 50]   Val: Loss = 0.15239, Accuracy = 92.65%: 100%|██████████| 13/13 [00:00<00:00, 86.79it/s]\n",
            "[37 / 50] Train: Loss = 0.00144, Accuracy = 99.84%: 100%|██████████| 572/572 [00:05<00:00, 96.68it/s]\n",
            "[37 / 50]   Val: Loss = 0.15168, Accuracy = 92.61%: 100%|██████████| 13/13 [00:00<00:00, 77.67it/s]\n",
            "[38 / 50] Train: Loss = 0.00172, Accuracy = 99.81%: 100%|██████████| 572/572 [00:05<00:00, 102.71it/s]\n",
            "[38 / 50]   Val: Loss = 0.13682, Accuracy = 92.48%: 100%|██████████| 13/13 [00:00<00:00, 79.26it/s]\n",
            "[39 / 50] Train: Loss = 0.00144, Accuracy = 99.83%: 100%|██████████| 572/572 [00:05<00:00, 105.18it/s]\n",
            "[39 / 50]   Val: Loss = 0.16309, Accuracy = 92.59%: 100%|██████████| 13/13 [00:00<00:00, 83.13it/s]\n",
            "[40 / 50] Train: Loss = 0.00153, Accuracy = 99.82%: 100%|██████████| 572/572 [00:06<00:00, 95.03it/s] \n",
            "[40 / 50]   Val: Loss = 0.15950, Accuracy = 92.51%: 100%|██████████| 13/13 [00:00<00:00, 85.15it/s]\n",
            "[41 / 50] Train: Loss = 0.00137, Accuracy = 99.84%: 100%|██████████| 572/572 [00:05<00:00, 106.02it/s]\n",
            "[41 / 50]   Val: Loss = 0.15400, Accuracy = 92.67%: 100%|██████████| 13/13 [00:00<00:00, 86.98it/s]\n",
            "[42 / 50] Train: Loss = 0.00131, Accuracy = 99.84%: 100%|██████████| 572/572 [00:05<00:00, 99.71it/s]\n",
            "[42 / 50]   Val: Loss = 0.17187, Accuracy = 92.61%: 100%|██████████| 13/13 [00:00<00:00, 78.46it/s]\n",
            "[43 / 50] Train: Loss = 0.00130, Accuracy = 99.84%: 100%|██████████| 572/572 [00:05<00:00, 96.73it/s] \n",
            "[43 / 50]   Val: Loss = 0.16417, Accuracy = 92.66%: 100%|██████████| 13/13 [00:00<00:00, 84.89it/s]\n",
            "[44 / 50] Train: Loss = 0.00128, Accuracy = 99.84%: 100%|██████████| 572/572 [00:05<00:00, 105.94it/s]\n",
            "[44 / 50]   Val: Loss = 0.16184, Accuracy = 92.60%: 100%|██████████| 13/13 [00:00<00:00, 84.27it/s]\n",
            "[45 / 50] Train: Loss = 0.00133, Accuracy = 99.84%: 100%|██████████| 572/572 [00:05<00:00, 99.49it/s]\n",
            "[45 / 50]   Val: Loss = 0.15785, Accuracy = 92.62%: 100%|██████████| 13/13 [00:00<00:00, 71.74it/s]\n",
            "[46 / 50] Train: Loss = 0.00218, Accuracy = 99.75%: 100%|██████████| 572/572 [00:05<00:00, 100.90it/s]\n",
            "[46 / 50]   Val: Loss = 0.16339, Accuracy = 92.60%: 100%|██████████| 13/13 [00:00<00:00, 84.25it/s]\n",
            "[47 / 50] Train: Loss = 0.00146, Accuracy = 99.83%: 100%|██████████| 572/572 [00:05<00:00, 105.59it/s]\n",
            "[47 / 50]   Val: Loss = 0.15951, Accuracy = 92.65%: 100%|██████████| 13/13 [00:00<00:00, 80.95it/s]\n",
            "[48 / 50] Train: Loss = 0.00123, Accuracy = 99.85%: 100%|██████████| 572/572 [00:05<00:00, 96.27it/s]\n",
            "[48 / 50]   Val: Loss = 0.16846, Accuracy = 92.69%: 100%|██████████| 13/13 [00:00<00:00, 78.15it/s]\n",
            "[49 / 50] Train: Loss = 0.00123, Accuracy = 99.85%: 100%|██████████| 572/572 [00:05<00:00, 103.12it/s]\n",
            "[49 / 50]   Val: Loss = 0.16667, Accuracy = 92.67%: 100%|██████████| 13/13 [00:00<00:00, 85.43it/s]\n",
            "[50 / 50] Train: Loss = 0.00122, Accuracy = 99.85%: 100%|██████████| 572/572 [00:05<00:00, 102.71it/s]\n",
            "[50 / 50]   Val: Loss = 0.17307, Accuracy = 92.72%: 100%|██████████| 13/13 [00:00<00:00, 80.57it/s]\n"
          ]
        }
      ],
      "source": [
        "model = LSTMTagger(\n",
        "    vocab_size=len(word2ind),\n",
        "    tagset_size=len(tag2ind)\n",
        ").cuda()\n",
        "\n",
        "criterion = nn.CrossEntropyLoss().cuda()\n",
        "optimizer = optim.Adam(model.parameters())\n",
        "\n",
        "fit(model, criterion, optimizer, train_data=(X_train, y_train), epochs_count=50,\n",
        "    batch_size=64, val_data=(X_val, y_val), val_batch_size=512)"
      ]
    },
    {
      "cell_type": "markdown",
      "metadata": {
        "id": "m0qGetIhfUE5"
      },
      "source": [
        "### Masking\n",
        "\n",
        "**Задание** Проверьте себя - не считаете ли вы потери и accuracy на паддингах - очень легко получить высокое качество за счет этого.\n",
        "\n",
        "У функции потерь есть параметр `ignore_index`, для таких целей. Для accuracy нужно использовать маскинг - умножение на маску из нулей и единиц, где нули на позициях паддингов (а потом усреднение по ненулевым позициям в маске)."
      ]
    },
    {
      "cell_type": "markdown",
      "metadata": {
        "id": "nAfV2dEOfHo5"
      },
      "source": [
        "**Задание** Посчитайте качество модели на тесте. Ожидается результат лучше бейзлайна!"
      ]
    },
    {
      "cell_type": "code",
      "execution_count": 142,
      "metadata": {
        "id": "98wr38_rw55D",
        "colab": {
          "base_uri": "https://localhost:8080/"
        },
        "outputId": "f3a46f2d-5b03-4126-e237-f704bc61438a"
      },
      "outputs": [
        {
          "output_type": "stream",
          "name": "stderr",
          "text": [
            "[1 / 12] Train: Loss = 0.04151, Accuracy = 95.87%: 100%|██████████| 224/224 [00:02<00:00, 89.93it/s] \n",
            "[2 / 12] Train: Loss = 0.03933, Accuracy = 96.08%: 100%|██████████| 224/224 [00:02<00:00, 100.32it/s]\n",
            "[3 / 12] Train: Loss = 0.03815, Accuracy = 96.25%: 100%|██████████| 224/224 [00:02<00:00, 83.94it/s]\n",
            "[4 / 12] Train: Loss = 0.03710, Accuracy = 96.34%: 100%|██████████| 224/224 [00:02<00:00, 76.31it/s]\n",
            "[5 / 12] Train: Loss = 0.03549, Accuracy = 96.46%: 100%|██████████| 224/224 [00:02<00:00, 97.33it/s]\n",
            "[6 / 12] Train: Loss = 0.03512, Accuracy = 96.53%: 100%|██████████| 224/224 [00:02<00:00, 99.28it/s] \n",
            "[7 / 12] Train: Loss = 0.03433, Accuracy = 96.59%: 100%|██████████| 224/224 [00:02<00:00, 99.22it/s]\n",
            "[8 / 12] Train: Loss = 0.03367, Accuracy = 96.65%: 100%|██████████| 224/224 [00:02<00:00, 99.84it/s]\n",
            "[9 / 12] Train: Loss = 0.03297, Accuracy = 96.69%: 100%|██████████| 224/224 [00:02<00:00, 89.51it/s]\n",
            "[10 / 12] Train: Loss = 0.03318, Accuracy = 96.75%: 100%|██████████| 224/224 [00:03<00:00, 62.56it/s]\n",
            "[11 / 12] Train: Loss = 0.03234, Accuracy = 96.80%: 100%|██████████| 224/224 [00:02<00:00, 98.10it/s]\n",
            "[12 / 12] Train: Loss = 0.03231, Accuracy = 96.84%: 100%|██████████| 224/224 [00:02<00:00, 99.68it/s]\n"
          ]
        }
      ],
      "source": [
        "criterion = nn.CrossEntropyLoss().cuda()\n",
        "optimizer = optim.Adam(model.parameters())\n",
        "epochs_count = 12\n",
        "fit(model, criterion, optimizer, train_data=(X_test, y_test), epochs_count=epochs_count,\n",
        "    batch_size=64)"
      ]
    },
    {
      "cell_type": "markdown",
      "metadata": {
        "id": "PXUTSFaEHbDG"
      },
      "source": [
        "### Bidirectional LSTM\n",
        "\n",
        "Благодаря BiLSTM можно использовать сразу оба контеста при предсказании тега слова. Т.е. для каждого токена $w_i$ forward LSTM будет выдавать представление $\\mathbf{f_i} \\sim (w_1, \\ldots, w_i)$ - построенное по всему левому контексту - и $\\mathbf{b_i} \\sim (w_n, \\ldots, w_i)$ - представление правого контекста. Их конкатенация автоматически захватит весь доступный контекст слова: $\\mathbf{h_i} = [\\mathbf{f_i}, \\mathbf{b_i}] \\sim (w_1, \\ldots, w_n)$.\n",
        "\n",
        "![BiLSTM](https://www.researchgate.net/profile/Wang_Ling/publication/280912217/figure/fig2/AS:391505383575555@1470353565299/Illustration-of-our-neural-network-for-POS-tagging.png)  \n",
        "*From [Finding Function in Form: Compositional Character Models for Open Vocabulary Word Representation](https://arxiv.org/abs/1508.02096)*\n",
        "\n",
        "**Задание** Добавьте Bidirectional LSTM."
      ]
    },
    {
      "cell_type": "markdown",
      "metadata": {
        "id": "3u29UibGASet"
      },
      "source": [
        "![bdt.png](data:image/png;base64,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)"
      ]
    },
    {
      "cell_type": "code",
      "execution_count": 132,
      "metadata": {
        "id": "1O-jyibcHV_F"
      },
      "outputs": [],
      "source": [
        "class BLSTMTagger(nn.Module):\n",
        "    def __init__(self, vocab_size, tagset_size, word_emb_dim=100, lstm_hidden_dim=128, lstm_layers_count=1):\n",
        "        super().__init__()\n",
        "       \n",
        "        self.word_embeddings = nn.Embedding(vocab_size, word_emb_dim)\n",
        "\n",
        "        self.blstm = nn.LSTM(word_emb_dim, lstm_hidden_dim, lstm_layers_count, bidirectional=True)\n",
        "\n",
        "        self.hidden2tag = nn.Linear(2*lstm_hidden_dim, tagset_size)\n",
        "\n",
        "        self.hidden = lstm_hidden_dim\n",
        "\n",
        "    def forward(self, inputs):\n",
        "        embeds = self.word_embeddings(inputs)\n",
        "        blstm_output, _ = self.blstm(embeds)\n",
        "        layer_output = self.hidden2tag(blstm_output)\n",
        "        return layer_output"
      ]
    },
    {
      "cell_type": "code",
      "execution_count": 133,
      "metadata": {
        "id": "5XVf6X-qGoB7",
        "colab": {
          "base_uri": "https://localhost:8080/"
        },
        "outputId": "73ed6630-771f-42df-a8df-ffe69a44048e"
      },
      "outputs": [
        {
          "output_type": "stream",
          "name": "stderr",
          "text": [
            "[1 / 50] Train: Loss = 0.55567, Accuracy = 82.47%: 100%|██████████| 572/572 [00:07<00:00, 75.30it/s]\n",
            "[1 / 50]   Val: Loss = 0.27365, Accuracy = 91.05%: 100%|██████████| 13/13 [00:00<00:00, 65.08it/s]\n",
            "[2 / 50] Train: Loss = 0.20283, Accuracy = 93.57%: 100%|██████████| 572/572 [00:06<00:00, 86.66it/s]\n",
            "[2 / 50]   Val: Loss = 0.18210, Accuracy = 94.00%: 100%|██████████| 13/13 [00:00<00:00, 62.74it/s]\n",
            "[3 / 50] Train: Loss = 0.12853, Accuracy = 96.02%: 100%|██████████| 572/572 [00:07<00:00, 75.71it/s]\n",
            "[3 / 50]   Val: Loss = 0.15510, Accuracy = 94.82%: 100%|██████████| 13/13 [00:00<00:00, 68.13it/s]\n",
            "[4 / 50] Train: Loss = 0.08782, Accuracy = 97.32%: 100%|██████████| 572/572 [00:06<00:00, 86.55it/s]\n",
            "[4 / 50]   Val: Loss = 0.13260, Accuracy = 95.62%: 100%|██████████| 13/13 [00:00<00:00, 65.25it/s]\n",
            "[5 / 50] Train: Loss = 0.06092, Accuracy = 98.20%: 100%|██████████| 572/572 [00:07<00:00, 75.80it/s]\n",
            "[5 / 50]   Val: Loss = 0.13008, Accuracy = 95.72%: 100%|██████████| 13/13 [00:00<00:00, 65.08it/s]\n",
            "[6 / 50] Train: Loss = 0.04165, Accuracy = 98.82%: 100%|██████████| 572/572 [00:06<00:00, 86.25it/s]\n",
            "[6 / 50]   Val: Loss = 0.13516, Accuracy = 95.77%: 100%|██████████| 13/13 [00:00<00:00, 65.18it/s]\n",
            "[7 / 50] Train: Loss = 0.02760, Accuracy = 99.25%: 100%|██████████| 572/572 [00:07<00:00, 75.67it/s]\n",
            "[7 / 50]   Val: Loss = 0.12668, Accuracy = 96.08%: 100%|██████████| 13/13 [00:00<00:00, 62.38it/s]\n",
            "[8 / 50] Train: Loss = 0.01820, Accuracy = 99.54%: 100%|██████████| 572/572 [00:06<00:00, 85.38it/s]\n",
            "[8 / 50]   Val: Loss = 0.13782, Accuracy = 95.94%: 100%|██████████| 13/13 [00:00<00:00, 64.70it/s]\n",
            "[9 / 50] Train: Loss = 0.01160, Accuracy = 99.73%: 100%|██████████| 572/572 [00:07<00:00, 75.55it/s]\n",
            "[9 / 50]   Val: Loss = 0.14676, Accuracy = 95.89%: 100%|██████████| 13/13 [00:00<00:00, 64.64it/s]\n",
            "[10 / 50] Train: Loss = 0.00724, Accuracy = 99.86%: 100%|██████████| 572/572 [00:06<00:00, 83.69it/s]\n",
            "[10 / 50]   Val: Loss = 0.16569, Accuracy = 95.77%: 100%|██████████| 13/13 [00:00<00:00, 64.83it/s]\n",
            "[11 / 50] Train: Loss = 0.00458, Accuracy = 99.92%: 100%|██████████| 572/572 [00:07<00:00, 75.40it/s]\n",
            "[11 / 50]   Val: Loss = 0.16831, Accuracy = 95.88%: 100%|██████████| 13/13 [00:00<00:00, 63.64it/s]\n",
            "[12 / 50] Train: Loss = 0.00292, Accuracy = 99.96%: 100%|██████████| 572/572 [00:06<00:00, 85.36it/s]\n",
            "[12 / 50]   Val: Loss = 0.17614, Accuracy = 95.92%: 100%|██████████| 13/13 [00:00<00:00, 69.31it/s]\n",
            "[13 / 50] Train: Loss = 0.00200, Accuracy = 99.97%: 100%|██████████| 572/572 [00:07<00:00, 75.55it/s]\n",
            "[13 / 50]   Val: Loss = 0.18082, Accuracy = 95.93%: 100%|██████████| 13/13 [00:00<00:00, 65.57it/s]\n",
            "[14 / 50] Train: Loss = 0.00145, Accuracy = 99.98%: 100%|██████████| 572/572 [00:06<00:00, 85.25it/s]\n",
            "[14 / 50]   Val: Loss = 0.18799, Accuracy = 95.94%: 100%|██████████| 13/13 [00:00<00:00, 65.69it/s]\n",
            "[15 / 50] Train: Loss = 0.00139, Accuracy = 99.98%: 100%|██████████| 572/572 [00:07<00:00, 76.56it/s]\n",
            "[15 / 50]   Val: Loss = 0.20165, Accuracy = 95.78%: 100%|██████████| 13/13 [00:00<00:00, 57.82it/s]\n",
            "[16 / 50] Train: Loss = 0.00266, Accuracy = 99.93%: 100%|██████████| 572/572 [00:06<00:00, 84.42it/s]\n",
            "[16 / 50]   Val: Loss = 0.19517, Accuracy = 95.92%: 100%|██████████| 13/13 [00:00<00:00, 62.21it/s]\n",
            "[17 / 50] Train: Loss = 0.00229, Accuracy = 99.94%: 100%|██████████| 572/572 [00:07<00:00, 75.21it/s]\n",
            "[17 / 50]   Val: Loss = 0.23251, Accuracy = 95.72%: 100%|██████████| 13/13 [00:00<00:00, 61.77it/s]\n",
            "[18 / 50] Train: Loss = 0.00086, Accuracy = 99.99%: 100%|██████████| 572/572 [00:06<00:00, 84.94it/s]\n",
            "[18 / 50]   Val: Loss = 0.20718, Accuracy = 96.03%: 100%|██████████| 13/13 [00:00<00:00, 67.94it/s]\n",
            "[19 / 50] Train: Loss = 0.00031, Accuracy = 100.00%: 100%|██████████| 572/572 [00:07<00:00, 75.14it/s]\n",
            "[19 / 50]   Val: Loss = 0.21919, Accuracy = 96.02%: 100%|██████████| 13/13 [00:00<00:00, 61.74it/s]\n",
            "[20 / 50] Train: Loss = 0.00019, Accuracy = 100.00%: 100%|██████████| 572/572 [00:06<00:00, 84.36it/s]\n",
            "[20 / 50]   Val: Loss = 0.21401, Accuracy = 96.08%: 100%|██████████| 13/13 [00:00<00:00, 63.23it/s]\n",
            "[21 / 50] Train: Loss = 0.00015, Accuracy = 100.00%: 100%|██████████| 572/572 [00:07<00:00, 75.59it/s]\n",
            "[21 / 50]   Val: Loss = 0.21890, Accuracy = 96.07%: 100%|██████████| 13/13 [00:00<00:00, 61.94it/s]\n",
            "[22 / 50] Train: Loss = 0.00231, Accuracy = 99.92%: 100%|██████████| 572/572 [00:06<00:00, 83.91it/s]\n",
            "[22 / 50]   Val: Loss = 0.27059, Accuracy = 95.47%: 100%|██████████| 13/13 [00:00<00:00, 64.52it/s]\n",
            "[23 / 50] Train: Loss = 0.00396, Accuracy = 99.87%: 100%|██████████| 572/572 [00:07<00:00, 76.18it/s]\n",
            "[23 / 50]   Val: Loss = 0.22544, Accuracy = 95.92%: 100%|██████████| 13/13 [00:00<00:00, 59.23it/s]\n",
            "[24 / 50] Train: Loss = 0.00063, Accuracy = 99.99%: 100%|██████████| 572/572 [00:06<00:00, 83.55it/s]\n",
            "[24 / 50]   Val: Loss = 0.22694, Accuracy = 96.00%: 100%|██████████| 13/13 [00:00<00:00, 67.80it/s]\n",
            "[25 / 50] Train: Loss = 0.00017, Accuracy = 100.00%: 100%|██████████| 572/572 [00:07<00:00, 76.73it/s]\n",
            "[25 / 50]   Val: Loss = 0.23354, Accuracy = 96.04%: 100%|██████████| 13/13 [00:00<00:00, 52.75it/s]\n",
            "[26 / 50] Train: Loss = 0.00011, Accuracy = 100.00%: 100%|██████████| 572/572 [00:06<00:00, 83.85it/s]\n",
            "[26 / 50]   Val: Loss = 0.23375, Accuracy = 96.08%: 100%|██████████| 13/13 [00:00<00:00, 62.08it/s]\n",
            "[27 / 50] Train: Loss = 0.00008, Accuracy = 100.00%: 100%|██████████| 572/572 [00:07<00:00, 76.82it/s]\n",
            "[27 / 50]   Val: Loss = 0.23645, Accuracy = 96.11%: 100%|██████████| 13/13 [00:00<00:00, 57.61it/s]\n",
            "[28 / 50] Train: Loss = 0.00007, Accuracy = 100.00%: 100%|██████████| 572/572 [00:06<00:00, 81.79it/s]\n",
            "[28 / 50]   Val: Loss = 0.23633, Accuracy = 96.12%: 100%|██████████| 13/13 [00:00<00:00, 67.83it/s]\n",
            "[29 / 50] Train: Loss = 0.00045, Accuracy = 99.99%: 100%|██████████| 572/572 [00:07<00:00, 78.27it/s]\n",
            "[29 / 50]   Val: Loss = 0.25818, Accuracy = 95.70%: 100%|██████████| 13/13 [00:00<00:00, 56.80it/s]\n",
            "[30 / 50] Train: Loss = 0.00436, Accuracy = 99.85%: 100%|██████████| 572/572 [00:06<00:00, 81.80it/s]\n",
            "[30 / 50]   Val: Loss = 0.23924, Accuracy = 96.01%: 100%|██████████| 13/13 [00:00<00:00, 65.28it/s]\n",
            "[31 / 50] Train: Loss = 0.00069, Accuracy = 99.99%: 100%|██████████| 572/572 [00:07<00:00, 76.55it/s]\n",
            "[31 / 50]   Val: Loss = 0.23059, Accuracy = 96.13%: 100%|██████████| 13/13 [00:00<00:00, 61.31it/s]\n",
            "[32 / 50] Train: Loss = 0.00019, Accuracy = 100.00%: 100%|██████████| 572/572 [00:07<00:00, 80.82it/s]\n",
            "[32 / 50]   Val: Loss = 0.23638, Accuracy = 96.16%: 100%|██████████| 13/13 [00:00<00:00, 65.52it/s]\n",
            "[33 / 50] Train: Loss = 0.00010, Accuracy = 100.00%: 100%|██████████| 572/572 [00:07<00:00, 78.44it/s]\n",
            "[33 / 50]   Val: Loss = 0.24116, Accuracy = 96.14%: 100%|██████████| 13/13 [00:00<00:00, 56.31it/s]\n",
            "[34 / 50] Train: Loss = 0.00007, Accuracy = 100.00%: 100%|██████████| 572/572 [00:06<00:00, 82.05it/s]\n",
            "[34 / 50]   Val: Loss = 0.23743, Accuracy = 96.22%: 100%|██████████| 13/13 [00:00<00:00, 67.56it/s]\n",
            "[35 / 50] Train: Loss = 0.00007, Accuracy = 100.00%: 100%|██████████| 572/572 [00:07<00:00, 79.48it/s]\n",
            "[35 / 50]   Val: Loss = 0.24886, Accuracy = 96.09%: 100%|██████████| 13/13 [00:00<00:00, 56.15it/s]\n",
            "[36 / 50] Train: Loss = 0.00008, Accuracy = 100.00%: 100%|██████████| 572/572 [00:07<00:00, 79.32it/s]\n",
            "[36 / 50]   Val: Loss = 0.23466, Accuracy = 96.25%: 100%|██████████| 13/13 [00:00<00:00, 61.28it/s]\n",
            "[37 / 50] Train: Loss = 0.00149, Accuracy = 99.95%: 100%|██████████| 572/572 [00:07<00:00, 79.28it/s]\n",
            "[37 / 50]   Val: Loss = 0.27809, Accuracy = 95.59%: 100%|██████████| 13/13 [00:00<00:00, 57.49it/s]\n",
            "[38 / 50] Train: Loss = 0.00329, Accuracy = 99.89%: 100%|██████████| 572/572 [00:07<00:00, 77.75it/s]\n",
            "[38 / 50]   Val: Loss = 0.24959, Accuracy = 96.03%: 100%|██████████| 13/13 [00:00<00:00, 64.74it/s]\n",
            "[39 / 50] Train: Loss = 0.00042, Accuracy = 99.99%: 100%|██████████| 572/572 [00:07<00:00, 78.50it/s]\n",
            "[39 / 50]   Val: Loss = 0.24563, Accuracy = 96.10%: 100%|██████████| 13/13 [00:00<00:00, 56.97it/s]\n",
            "[40 / 50] Train: Loss = 0.00011, Accuracy = 100.00%: 100%|██████████| 572/572 [00:07<00:00, 77.92it/s]\n",
            "[40 / 50]   Val: Loss = 0.24419, Accuracy = 96.17%: 100%|██████████| 13/13 [00:00<00:00, 62.98it/s]\n",
            "[41 / 50] Train: Loss = 0.00005, Accuracy = 100.00%: 100%|██████████| 572/572 [00:07<00:00, 78.03it/s]\n",
            "[41 / 50]   Val: Loss = 0.24751, Accuracy = 96.18%: 100%|██████████| 13/13 [00:00<00:00, 55.69it/s]\n",
            "[42 / 50] Train: Loss = 0.00006, Accuracy = 100.00%: 100%|██████████| 572/572 [00:07<00:00, 79.27it/s]\n",
            "[42 / 50]   Val: Loss = 0.24814, Accuracy = 96.21%: 100%|██████████| 13/13 [00:00<00:00, 65.05it/s]\n",
            "[43 / 50] Train: Loss = 0.00005, Accuracy = 100.00%: 100%|██████████| 572/572 [00:07<00:00, 77.40it/s]\n",
            "[43 / 50]   Val: Loss = 0.24915, Accuracy = 96.24%: 100%|██████████| 13/13 [00:00<00:00, 58.22it/s]\n",
            "[44 / 50] Train: Loss = 0.00005, Accuracy = 100.00%: 100%|██████████| 572/572 [00:07<00:00, 79.61it/s]\n",
            "[44 / 50]   Val: Loss = 0.25001, Accuracy = 96.23%: 100%|██████████| 13/13 [00:00<00:00, 64.90it/s]\n",
            "[45 / 50] Train: Loss = 0.00004, Accuracy = 100.00%: 100%|██████████| 572/572 [00:07<00:00, 78.60it/s]\n",
            "[45 / 50]   Val: Loss = 0.25284, Accuracy = 96.23%: 100%|██████████| 13/13 [00:00<00:00, 54.56it/s]\n",
            "[46 / 50] Train: Loss = 0.00016, Accuracy = 100.00%: 100%|██████████| 572/572 [00:07<00:00, 78.60it/s]\n",
            "[46 / 50]   Val: Loss = 0.28436, Accuracy = 95.79%: 100%|██████████| 13/13 [00:00<00:00, 66.55it/s]\n",
            "[47 / 50] Train: Loss = 0.00459, Accuracy = 99.84%: 100%|██████████| 572/572 [00:07<00:00, 77.71it/s]\n",
            "[47 / 50]   Val: Loss = 0.22301, Accuracy = 96.32%: 100%|██████████| 13/13 [00:00<00:00, 56.68it/s]\n",
            "[48 / 50] Train: Loss = 0.00067, Accuracy = 99.98%: 100%|██████████| 572/572 [00:07<00:00, 78.38it/s]\n",
            "[48 / 50]   Val: Loss = 0.23633, Accuracy = 96.29%: 100%|██████████| 13/13 [00:00<00:00, 60.83it/s]\n",
            "[49 / 50] Train: Loss = 0.00013, Accuracy = 100.00%: 100%|██████████| 572/572 [00:07<00:00, 77.64it/s]\n",
            "[49 / 50]   Val: Loss = 0.23825, Accuracy = 96.31%: 100%|██████████| 13/13 [00:00<00:00, 56.96it/s]\n",
            "[50 / 50] Train: Loss = 0.00006, Accuracy = 100.00%: 100%|██████████| 572/572 [00:07<00:00, 78.65it/s]\n",
            "[50 / 50]   Val: Loss = 0.23906, Accuracy = 96.36%: 100%|██████████| 13/13 [00:00<00:00, 65.32it/s]\n"
          ]
        }
      ],
      "source": [
        "model = BLSTMTagger(\n",
        "    vocab_size=len(word2ind),\n",
        "    tagset_size=len(tag2ind)\n",
        ").cuda()\n",
        "\n",
        "criterion = nn.CrossEntropyLoss(ignore_index=0).cuda()\n",
        "optimizer = optim.Adam(model.parameters())\n",
        "\n",
        "fit(model, criterion, optimizer, train_data=(X_train, y_train), epochs_count=50,\n",
        "    batch_size=64, val_data=(X_val, y_val), val_batch_size=512)"
      ]
    },
    {
      "cell_type": "code",
      "execution_count": 134,
      "metadata": {
        "id": "mLv5v1QIGx3i",
        "colab": {
          "base_uri": "https://localhost:8080/"
        },
        "outputId": "9631e1d3-fb69-4d94-ba95-75cd399edb6d"
      },
      "outputs": [
        {
          "output_type": "stream",
          "name": "stderr",
          "text": [
            "[1 / 12] Train: Loss = 0.12399, Accuracy = 96.74%: 100%|██████████| 448/448 [00:04<00:00, 97.70it/s]\n",
            "[2 / 12] Train: Loss = 0.03255, Accuracy = 97.89%: 100%|██████████| 448/448 [00:05<00:00, 81.91it/s]\n",
            "[3 / 12] Train: Loss = 0.01884, Accuracy = 98.69%: 100%|██████████| 448/448 [00:04<00:00, 98.26it/s]\n",
            "[4 / 12] Train: Loss = 0.01204, Accuracy = 99.16%: 100%|██████████| 448/448 [00:04<00:00, 97.57it/s]\n",
            "[5 / 12] Train: Loss = 0.00762, Accuracy = 99.47%: 100%|██████████| 448/448 [00:05<00:00, 83.41it/s]\n",
            "[6 / 12] Train: Loss = 0.00500, Accuracy = 99.70%: 100%|██████████| 448/448 [00:04<00:00, 97.20it/s]\n",
            "[7 / 12] Train: Loss = 0.00325, Accuracy = 99.82%: 100%|██████████| 448/448 [00:04<00:00, 99.11it/s]\n",
            "[8 / 12] Train: Loss = 0.00224, Accuracy = 99.89%: 100%|██████████| 448/448 [00:05<00:00, 85.82it/s]\n",
            "[9 / 12] Train: Loss = 0.00153, Accuracy = 99.94%: 100%|██████████| 448/448 [00:04<00:00, 95.40it/s] \n",
            "[10 / 12] Train: Loss = 0.00110, Accuracy = 99.96%: 100%|██████████| 448/448 [00:04<00:00, 97.28it/s]\n",
            "[11 / 12] Train: Loss = 0.00082, Accuracy = 99.97%: 100%|██████████| 448/448 [00:05<00:00, 87.10it/s]\n",
            "[12 / 12] Train: Loss = 0.00064, Accuracy = 99.98%: 100%|██████████| 448/448 [00:04<00:00, 93.63it/s]\n"
          ]
        }
      ],
      "source": [
        "#test data\n",
        "criterion = nn.CrossEntropyLoss().cuda()\n",
        "optimizer = optim.Adam(model.parameters())\n",
        "\n",
        "epochs_count = 12\n",
        "fit(model, criterion, optimizer, train_data=(X_test, y_test), epochs_count=epochs_count)"
      ]
    },
    {
      "cell_type": "markdown",
      "metadata": {
        "id": "ZTXmYGD_ANhm"
      },
      "source": [
        "### Предобученные эмбеддинги\n",
        "\n",
        "Мы знаем, какая клёвая вещь - предобученные эмбеддинги. При текущем размере обучающей выборки еще можно было учить их и с нуля - с меньшей было бы совсем плохо.\n",
        "\n",
        "Поэтому стандартный пайплайн - скачать эмбеддинги, засунуть их в сеточку. Запустим его:"
      ]
    },
    {
      "cell_type": "code",
      "execution_count": 135,
      "metadata": {
        "id": "l3LOrAXuEsZb"
      },
      "outputs": [],
      "source": [
        "!pip3 -qq install gensim==3.6.0"
      ]
    },
    {
      "cell_type": "code",
      "source": [
        "!python pip install -U gensim"
      ],
      "metadata": {
        "colab": {
          "base_uri": "https://localhost:8080/"
        },
        "id": "Yh6c3ZMgd5T4",
        "outputId": "a84158f2-e40d-4732-dbe4-0bcdb8d00434"
      },
      "execution_count": null,
      "outputs": [
        {
          "output_type": "stream",
          "name": "stdout",
          "text": [
            "python3: can't open file '/content/pip': [Errno 2] No such file or directory\n"
          ]
        }
      ]
    },
    {
      "cell_type": "code",
      "source": [
        "import gensim.downloader as api\n",
        "\n",
        "w2v_model = api.load('glove-wiki-gigaword-100')"
      ],
      "metadata": {
        "id": "L_AVX34_eQdm"
      },
      "execution_count": 136,
      "outputs": []
    },
    {
      "cell_type": "markdown",
      "metadata": {
        "id": "KYogOoKlgtcf"
      },
      "source": [
        "Построим подматрицу для слов из нашей тренировочной выборки:"
      ]
    },
    {
      "cell_type": "code",
      "execution_count": 137,
      "metadata": {
        "id": "VsCstxiO03oT",
        "colab": {
          "base_uri": "https://localhost:8080/"
        },
        "outputId": "fa95ef86-31fa-49d4-85c9-bcb20eaa84d8"
      },
      "outputs": [
        {
          "output_type": "stream",
          "name": "stdout",
          "text": [
            "Know 38736 out of 45441 word embeddings\n"
          ]
        }
      ],
      "source": [
        "known_count = 0\n",
        "embeddings = np.zeros((len(word2ind), w2v_model.vectors.shape[1]))\n",
        "for word, ind in word2ind.items():\n",
        "    word = word.lower()\n",
        "    if word in w2v_model.vocab:\n",
        "        embeddings[ind] = w2v_model.get_vector(word)\n",
        "        known_count += 1\n",
        "        \n",
        "print('Know {} out of {} word embeddings'.format(known_count, len(word2ind)))"
      ]
    },
    {
      "cell_type": "markdown",
      "metadata": {
        "id": "HcG7i-R8hbY3"
      },
      "source": [
        "**Задание** Сделайте модель с предобученной матрицей. Используйте `nn.Embedding.from_pretrained`."
      ]
    },
    {
      "cell_type": "code",
      "execution_count": 138,
      "metadata": {
        "id": "LxaRBpQd0pat"
      },
      "outputs": [],
      "source": [
        "class LSTMTaggerWithPretrainedEmbs(nn.Module):\n",
        "    def __init__(self, embeddings, tagset_size, lstm_hidden_dim=64, lstm_layers_count=1):\n",
        "        super().__init__()\n",
        "        \n",
        "        self.word_embedding = nn.Embedding.from_pretrained(torch.FloatTensor(embeddings))\n",
        "        \n",
        "        self.lstm_wpte = nn.LSTM(embeddings.shape[1], lstm_hidden_dim, lstm_layers_count, bidirectional=True)\n",
        "\n",
        "        self.linear = nn.Linear(2*lstm_hidden_dim, tagset_size)\n",
        "\n",
        "    def forward(self, inputs):\n",
        "        embeds = self.word_embedding(inputs)\n",
        "        out, _ = self.lstm_wpte(embeds)\n",
        "        linout = self.linear(out)\n",
        "        return linout"
      ]
    },
    {
      "cell_type": "code",
      "execution_count": 139,
      "metadata": {
        "id": "EBtI6BDE-Fc7",
        "colab": {
          "base_uri": "https://localhost:8080/"
        },
        "outputId": "7300e612-718f-4ced-8dc7-960dbd27be1f"
      },
      "outputs": [
        {
          "output_type": "stream",
          "name": "stderr",
          "text": [
            "[1 / 50] Train: Loss = 0.57319, Accuracy = 83.38%: 100%|██████████| 572/572 [00:10<00:00, 54.44it/s]\n",
            "[1 / 50]   Val: Loss = 0.25431, Accuracy = 92.44%: 100%|██████████| 13/13 [00:00<00:00, 67.34it/s]\n",
            "[2 / 50] Train: Loss = 0.18563, Accuracy = 94.51%: 100%|██████████| 572/572 [00:07<00:00, 74.71it/s]\n",
            "[2 / 50]   Val: Loss = 0.17269, Accuracy = 94.80%: 100%|██████████| 13/13 [00:00<00:00, 71.20it/s]\n",
            "[3 / 50] Train: Loss = 0.13270, Accuracy = 96.04%: 100%|██████████| 572/572 [00:06<00:00, 90.06it/s] \n",
            "[3 / 50]   Val: Loss = 0.14147, Accuracy = 95.66%: 100%|██████████| 13/13 [00:00<00:00, 90.13it/s]\n",
            "[4 / 50] Train: Loss = 0.10787, Accuracy = 96.74%: 100%|██████████| 572/572 [00:05<00:00, 101.69it/s]\n",
            "[4 / 50]   Val: Loss = 0.12371, Accuracy = 96.16%: 100%|██████████| 13/13 [00:00<00:00, 89.02it/s]\n",
            "[5 / 50] Train: Loss = 0.09286, Accuracy = 97.17%: 100%|██████████| 572/572 [00:06<00:00, 83.66it/s]\n",
            "[5 / 50]   Val: Loss = 0.11472, Accuracy = 96.45%: 100%|██████████| 13/13 [00:00<00:00, 87.43it/s]\n",
            "[6 / 50] Train: Loss = 0.08262, Accuracy = 97.47%: 100%|██████████| 572/572 [00:05<00:00, 99.20it/s]\n",
            "[6 / 50]   Val: Loss = 0.10784, Accuracy = 96.63%: 100%|██████████| 13/13 [00:00<00:00, 89.40it/s]\n",
            "[7 / 50] Train: Loss = 0.07498, Accuracy = 97.70%: 100%|██████████| 572/572 [00:08<00:00, 70.04it/s]\n",
            "[7 / 50]   Val: Loss = 0.10319, Accuracy = 96.72%: 100%|██████████| 13/13 [00:00<00:00, 86.75it/s]\n",
            "[8 / 50] Train: Loss = 0.06920, Accuracy = 97.86%: 100%|██████████| 572/572 [00:05<00:00, 98.76it/s]\n",
            "[8 / 50]   Val: Loss = 0.09869, Accuracy = 96.85%: 100%|██████████| 13/13 [00:00<00:00, 88.48it/s]\n",
            "[9 / 50] Train: Loss = 0.06451, Accuracy = 98.00%: 100%|██████████| 572/572 [00:06<00:00, 88.38it/s]\n",
            "[9 / 50]   Val: Loss = 0.09659, Accuracy = 96.90%: 100%|██████████| 13/13 [00:00<00:00, 75.05it/s]\n",
            "[10 / 50] Train: Loss = 0.06042, Accuracy = 98.10%: 100%|██████████| 572/572 [00:06<00:00, 88.74it/s]\n",
            "[10 / 50]   Val: Loss = 0.09644, Accuracy = 96.87%: 100%|██████████| 13/13 [00:00<00:00, 89.14it/s]\n",
            "[11 / 50] Train: Loss = 0.05696, Accuracy = 98.21%: 100%|██████████| 572/572 [00:06<00:00, 91.21it/s]\n",
            "[11 / 50]   Val: Loss = 0.09495, Accuracy = 96.99%: 100%|██████████| 13/13 [00:00<00:00, 76.47it/s]\n",
            "[12 / 50] Train: Loss = 0.05366, Accuracy = 98.31%: 100%|██████████| 572/572 [00:06<00:00, 84.40it/s]\n",
            "[12 / 50]   Val: Loss = 0.09335, Accuracy = 97.03%: 100%|██████████| 13/13 [00:00<00:00, 87.97it/s]\n",
            "[13 / 50] Train: Loss = 0.05080, Accuracy = 98.40%: 100%|██████████| 572/572 [00:05<00:00, 97.67it/s]\n",
            "[13 / 50]   Val: Loss = 0.09224, Accuracy = 97.06%: 100%|██████████| 13/13 [00:00<00:00, 89.71it/s]\n",
            "[14 / 50] Train: Loss = 0.04825, Accuracy = 98.48%: 100%|██████████| 572/572 [00:06<00:00, 82.67it/s]\n",
            "[14 / 50]   Val: Loss = 0.09415, Accuracy = 97.03%: 100%|██████████| 13/13 [00:00<00:00, 91.75it/s]\n",
            "[15 / 50] Train: Loss = 0.04607, Accuracy = 98.55%: 100%|██████████| 572/572 [00:05<00:00, 98.87it/s]\n",
            "[15 / 50]   Val: Loss = 0.09449, Accuracy = 97.04%: 100%|██████████| 13/13 [00:00<00:00, 84.81it/s]\n",
            "[16 / 50] Train: Loss = 0.04374, Accuracy = 98.63%: 100%|██████████| 572/572 [00:06<00:00, 86.81it/s]\n",
            "[16 / 50]   Val: Loss = 0.09535, Accuracy = 96.98%: 100%|██████████| 13/13 [00:00<00:00, 68.19it/s]\n",
            "[17 / 50] Train: Loss = 0.04174, Accuracy = 98.68%: 100%|██████████| 572/572 [00:06<00:00, 92.51it/s]\n",
            "[17 / 50]   Val: Loss = 0.09517, Accuracy = 97.02%: 100%|██████████| 13/13 [00:00<00:00, 85.26it/s]\n",
            "[18 / 50] Train: Loss = 0.03985, Accuracy = 98.75%: 100%|██████████| 572/572 [00:06<00:00, 93.46it/s]\n",
            "[18 / 50]   Val: Loss = 0.09508, Accuracy = 97.04%: 100%|██████████| 13/13 [00:00<00:00, 69.47it/s]\n",
            "[19 / 50] Train: Loss = 0.03792, Accuracy = 98.82%: 100%|██████████| 572/572 [00:06<00:00, 85.40it/s]\n",
            "[19 / 50]   Val: Loss = 0.09662, Accuracy = 97.04%: 100%|██████████| 13/13 [00:00<00:00, 88.83it/s]\n",
            "[20 / 50] Train: Loss = 0.03627, Accuracy = 98.87%: 100%|██████████| 572/572 [00:05<00:00, 96.97it/s]\n",
            "[20 / 50]   Val: Loss = 0.09788, Accuracy = 97.01%: 100%|██████████| 13/13 [00:00<00:00, 84.33it/s]\n",
            "[21 / 50] Train: Loss = 0.03479, Accuracy = 98.92%: 100%|██████████| 572/572 [00:07<00:00, 80.79it/s]\n",
            "[21 / 50]   Val: Loss = 0.09953, Accuracy = 97.04%: 100%|██████████| 13/13 [00:00<00:00, 85.89it/s]\n",
            "[22 / 50] Train: Loss = 0.03309, Accuracy = 98.99%: 100%|██████████| 572/572 [00:05<00:00, 95.95it/s]\n",
            "[22 / 50]   Val: Loss = 0.09947, Accuracy = 96.96%: 100%|██████████| 13/13 [00:00<00:00, 86.83it/s]\n",
            "[23 / 50] Train: Loss = 0.03164, Accuracy = 99.02%: 100%|██████████| 572/572 [00:06<00:00, 85.37it/s]\n",
            "[23 / 50]   Val: Loss = 0.10183, Accuracy = 96.99%: 100%|██████████| 13/13 [00:00<00:00, 73.16it/s]\n",
            "[24 / 50] Train: Loss = 0.03027, Accuracy = 99.08%: 100%|██████████| 572/572 [00:06<00:00, 94.84it/s]\n",
            "[24 / 50]   Val: Loss = 0.10304, Accuracy = 96.95%: 100%|██████████| 13/13 [00:00<00:00, 85.31it/s]\n",
            "[25 / 50] Train: Loss = 0.02899, Accuracy = 99.12%: 100%|██████████| 572/572 [00:06<00:00, 91.10it/s]\n",
            "[25 / 50]   Val: Loss = 0.10196, Accuracy = 96.99%: 100%|██████████| 13/13 [00:00<00:00, 66.15it/s]\n",
            "[26 / 50] Train: Loss = 0.02771, Accuracy = 99.15%: 100%|██████████| 572/572 [00:06<00:00, 87.31it/s]\n",
            "[26 / 50]   Val: Loss = 0.10534, Accuracy = 96.91%: 100%|██████████| 13/13 [00:00<00:00, 88.28it/s]\n",
            "[27 / 50] Train: Loss = 0.02640, Accuracy = 99.21%: 100%|██████████| 572/572 [00:05<00:00, 96.40it/s]\n",
            "[27 / 50]   Val: Loss = 0.10703, Accuracy = 96.97%: 100%|██████████| 13/13 [00:00<00:00, 87.70it/s]\n",
            "[28 / 50] Train: Loss = 0.02530, Accuracy = 99.25%: 100%|██████████| 572/572 [00:07<00:00, 81.37it/s]\n",
            "[28 / 50]   Val: Loss = 0.10727, Accuracy = 96.89%: 100%|██████████| 13/13 [00:00<00:00, 84.77it/s]\n",
            "[29 / 50] Train: Loss = 0.02400, Accuracy = 99.29%: 100%|██████████| 572/572 [00:05<00:00, 96.34it/s]\n",
            "[29 / 50]   Val: Loss = 0.10942, Accuracy = 96.92%: 100%|██████████| 13/13 [00:00<00:00, 90.69it/s]\n",
            "[30 / 50] Train: Loss = 0.02289, Accuracy = 99.34%: 100%|██████████| 572/572 [00:07<00:00, 79.70it/s]\n",
            "[30 / 50]   Val: Loss = 0.11516, Accuracy = 96.87%: 100%|██████████| 13/13 [00:00<00:00, 82.12it/s]\n",
            "[31 / 50] Train: Loss = 0.02195, Accuracy = 99.36%: 100%|██████████| 572/572 [00:06<00:00, 93.99it/s]\n",
            "[31 / 50]   Val: Loss = 0.11209, Accuracy = 96.87%: 100%|██████████| 13/13 [00:00<00:00, 83.78it/s]\n",
            "[32 / 50] Train: Loss = 0.02069, Accuracy = 99.41%: 100%|██████████| 572/572 [00:06<00:00, 85.63it/s]\n",
            "[32 / 50]   Val: Loss = 0.11525, Accuracy = 96.85%: 100%|██████████| 13/13 [00:00<00:00, 72.00it/s]\n",
            "[33 / 50] Train: Loss = 0.01983, Accuracy = 99.44%: 100%|██████████| 572/572 [00:06<00:00, 88.58it/s]\n",
            "[33 / 50]   Val: Loss = 0.11788, Accuracy = 96.83%: 100%|██████████| 13/13 [00:00<00:00, 89.09it/s]\n",
            "[34 / 50] Train: Loss = 0.01896, Accuracy = 99.48%: 100%|██████████| 572/572 [00:06<00:00, 92.49it/s]\n",
            "[34 / 50]   Val: Loss = 0.12551, Accuracy = 96.77%: 100%|██████████| 13/13 [00:00<00:00, 75.99it/s]\n",
            "[35 / 50] Train: Loss = 0.01823, Accuracy = 99.50%: 100%|██████████| 572/572 [00:07<00:00, 81.33it/s]\n",
            "[35 / 50]   Val: Loss = 0.12388, Accuracy = 96.77%: 100%|██████████| 13/13 [00:00<00:00, 80.84it/s]\n",
            "[36 / 50] Train: Loss = 0.01718, Accuracy = 99.53%: 100%|██████████| 572/572 [00:06<00:00, 94.54it/s]\n",
            "[36 / 50]   Val: Loss = 0.12272, Accuracy = 96.79%: 100%|██████████| 13/13 [00:00<00:00, 80.08it/s]\n",
            "[37 / 50] Train: Loss = 0.01619, Accuracy = 99.57%: 100%|██████████| 572/572 [00:07<00:00, 79.70it/s]\n",
            "[37 / 50]   Val: Loss = 0.12797, Accuracy = 96.78%: 100%|██████████| 13/13 [00:00<00:00, 80.73it/s]\n",
            "[38 / 50] Train: Loss = 0.01547, Accuracy = 99.58%: 100%|██████████| 572/572 [00:05<00:00, 95.62it/s]\n",
            "[38 / 50]   Val: Loss = 0.13316, Accuracy = 96.75%: 100%|██████████| 13/13 [00:00<00:00, 94.64it/s]\n",
            "[39 / 50] Train: Loss = 0.01476, Accuracy = 99.62%: 100%|██████████| 572/572 [00:06<00:00, 83.99it/s]\n",
            "[39 / 50]   Val: Loss = 0.13339, Accuracy = 96.73%: 100%|██████████| 13/13 [00:00<00:00, 61.80it/s]\n",
            "[40 / 50] Train: Loss = 0.01391, Accuracy = 99.65%: 100%|██████████| 572/572 [00:06<00:00, 89.49it/s]\n",
            "[40 / 50]   Val: Loss = 0.13609, Accuracy = 96.68%: 100%|██████████| 13/13 [00:00<00:00, 87.40it/s]\n",
            "[41 / 50] Train: Loss = 0.01309, Accuracy = 99.67%: 100%|██████████| 572/572 [00:06<00:00, 89.92it/s]\n",
            "[41 / 50]   Val: Loss = 0.13813, Accuracy = 96.69%: 100%|██████████| 13/13 [00:00<00:00, 76.65it/s]\n",
            "[42 / 50] Train: Loss = 0.01248, Accuracy = 99.70%: 100%|██████████| 572/572 [00:06<00:00, 85.14it/s]\n",
            "[42 / 50]   Val: Loss = 0.14075, Accuracy = 96.64%: 100%|██████████| 13/13 [00:00<00:00, 81.79it/s]\n",
            "[43 / 50] Train: Loss = 0.01180, Accuracy = 99.72%: 100%|██████████| 572/572 [00:06<00:00, 94.93it/s]\n",
            "[43 / 50]   Val: Loss = 0.14252, Accuracy = 96.64%: 100%|██████████| 13/13 [00:00<00:00, 78.50it/s]\n",
            "[44 / 50] Train: Loss = 0.01115, Accuracy = 99.73%: 100%|██████████| 572/572 [00:07<00:00, 79.98it/s]\n",
            "[44 / 50]   Val: Loss = 0.14723, Accuracy = 96.58%: 100%|██████████| 13/13 [00:00<00:00, 83.49it/s]\n",
            "[45 / 50] Train: Loss = 0.01069, Accuracy = 99.75%: 100%|██████████| 572/572 [00:06<00:00, 92.96it/s]\n",
            "[45 / 50]   Val: Loss = 0.15216, Accuracy = 96.67%: 100%|██████████| 13/13 [00:00<00:00, 78.42it/s]\n",
            "[46 / 50] Train: Loss = 0.01000, Accuracy = 99.77%: 100%|██████████| 572/572 [00:07<00:00, 79.64it/s]\n",
            "[46 / 50]   Val: Loss = 0.15315, Accuracy = 96.62%: 100%|██████████| 13/13 [00:00<00:00, 69.08it/s]\n",
            "[47 / 50] Train: Loss = 0.00942, Accuracy = 99.79%: 100%|██████████| 572/572 [00:06<00:00, 95.11it/s]\n",
            "[47 / 50]   Val: Loss = 0.15521, Accuracy = 96.57%: 100%|██████████| 13/13 [00:00<00:00, 81.74it/s]\n",
            "[48 / 50] Train: Loss = 0.00900, Accuracy = 99.80%: 100%|██████████| 572/572 [00:06<00:00, 88.20it/s]\n",
            "[48 / 50]   Val: Loss = 0.16079, Accuracy = 96.59%: 100%|██████████| 13/13 [00:00<00:00, 69.00it/s]\n",
            "[49 / 50] Train: Loss = 0.00845, Accuracy = 99.82%: 100%|██████████| 572/572 [00:06<00:00, 86.33it/s]\n",
            "[49 / 50]   Val: Loss = 0.15939, Accuracy = 96.57%: 100%|██████████| 13/13 [00:00<00:00, 84.60it/s]\n",
            "[50 / 50] Train: Loss = 0.00800, Accuracy = 99.83%: 100%|██████████| 572/572 [00:06<00:00, 93.78it/s]\n",
            "[50 / 50]   Val: Loss = 0.16254, Accuracy = 96.56%: 100%|██████████| 13/13 [00:00<00:00, 70.65it/s]\n"
          ]
        }
      ],
      "source": [
        "model = LSTMTaggerWithPretrainedEmbs(\n",
        "    embeddings=embeddings,\n",
        "    tagset_size=len(tag2ind)\n",
        ").cuda()\n",
        "\n",
        "criterion = nn.CrossEntropyLoss(ignore_index=0)\n",
        "optimizer = optim.Adam(model.parameters())\n",
        "\n",
        "fit(model, criterion, optimizer, train_data=(X_train, y_train), epochs_count=50,\n",
        "    batch_size=64, val_data=(X_val, y_val), val_batch_size=512)"
      ]
    },
    {
      "cell_type": "markdown",
      "metadata": {
        "id": "2Ne_8f24h8kg"
      },
      "source": [
        "**Задание** Оцените качество модели на тестовой выборке. Обратите внимание, вовсе не обязательно ограничиваться векторами из урезанной матрицы - вполне могут найтись слова в тесте, которых не было в трейне и для которых есть эмбеддинги.\n",
        "\n",
        "Добейтесь качества лучше прошлых моделей."
      ]
    },
    {
      "cell_type": "code",
      "execution_count": 140,
      "metadata": {
        "id": "HPUuAPGhEGVR",
        "colab": {
          "base_uri": "https://localhost:8080/"
        },
        "outputId": "5a12c721-790e-40d0-cd7a-10b2909c45fd"
      },
      "outputs": [
        {
          "output_type": "stream",
          "name": "stderr",
          "text": [
            "[1 / 12] Train: Loss = 0.19266, Accuracy = 91.11%: 100%|██████████| 448/448 [00:05<00:00, 87.15it/s] \n",
            "[2 / 12] Train: Loss = 0.06509, Accuracy = 94.53%: 100%|██████████| 448/448 [00:04<00:00, 110.32it/s]\n",
            "[3 / 12] Train: Loss = 0.05844, Accuracy = 95.04%: 100%|██████████| 448/448 [00:04<00:00, 111.31it/s]\n",
            "[4 / 12] Train: Loss = 0.05992, Accuracy = 94.91%: 100%|██████████| 448/448 [00:05<00:00, 87.42it/s]\n",
            "[5 / 12] Train: Loss = 0.06097, Accuracy = 94.86%: 100%|██████████| 448/448 [00:04<00:00, 103.63it/s]\n",
            "[6 / 12] Train: Loss = 0.05848, Accuracy = 95.04%: 100%|██████████| 448/448 [00:04<00:00, 110.24it/s]\n",
            "[7 / 12] Train: Loss = 0.06630, Accuracy = 94.52%: 100%|██████████| 448/448 [00:04<00:00, 98.33it/s]\n",
            "[8 / 12] Train: Loss = 0.06076, Accuracy = 94.79%: 100%|██████████| 448/448 [00:04<00:00, 94.75it/s] \n",
            "[9 / 12] Train: Loss = 0.06570, Accuracy = 94.60%: 100%|██████████| 448/448 [00:04<00:00, 109.52it/s]\n",
            "[10 / 12] Train: Loss = 0.06048, Accuracy = 94.85%: 100%|██████████| 448/448 [00:04<00:00, 109.59it/s]\n",
            "[11 / 12] Train: Loss = 0.06027, Accuracy = 94.88%: 100%|██████████| 448/448 [00:05<00:00, 83.33it/s]\n",
            "[12 / 12] Train: Loss = 0.05932, Accuracy = 94.96%: 100%|██████████| 448/448 [00:04<00:00, 105.53it/s]\n"
          ]
        }
      ],
      "source": [
        "#test data\n",
        "criterion = nn.CrossEntropyLoss().cuda()\n",
        "optimizer = optim.Adam(model.parameters(), lr=0.1)\n",
        "\n",
        "epochs_count = 12\n",
        "fit(model, criterion, optimizer, train_data=(X_test, y_test), epochs_count=epochs_count)"
      ]
    },
    {
      "cell_type": "code",
      "execution_count": 141,
      "metadata": {
        "id": "orA1XoxVMw0s",
        "colab": {
          "base_uri": "https://localhost:8080/"
        },
        "outputId": "56129224-20f4-459c-eea4-c84e0c812577"
      },
      "outputs": [
        {
          "output_type": "stream",
          "name": "stderr",
          "text": [
            "[1 / 12] Train: Loss = 0.05656, Accuracy = 95.30%: 100%|██████████| 448/448 [00:03<00:00, 118.04it/s]\n",
            "[2 / 12] Train: Loss = 0.05310, Accuracy = 95.49%: 100%|██████████| 448/448 [00:04<00:00, 99.85it/s]\n",
            "[3 / 12] Train: Loss = 0.05330, Accuracy = 95.55%: 100%|██████████| 448/448 [00:04<00:00, 106.91it/s]\n",
            "[4 / 12] Train: Loss = 0.05215, Accuracy = 95.58%: 100%|██████████| 448/448 [00:03<00:00, 118.07it/s]\n",
            "[5 / 12] Train: Loss = 0.05116, Accuracy = 95.62%: 100%|██████████| 448/448 [00:03<00:00, 120.17it/s]\n",
            "[6 / 12] Train: Loss = 0.05107, Accuracy = 95.63%: 100%|██████████| 448/448 [00:04<00:00, 96.25it/s]\n",
            "[7 / 12] Train: Loss = 0.05116, Accuracy = 95.66%: 100%|██████████| 448/448 [00:03<00:00, 114.23it/s]\n",
            "[8 / 12] Train: Loss = 0.05067, Accuracy = 95.67%: 100%|██████████| 448/448 [00:03<00:00, 117.88it/s]\n",
            "[9 / 12] Train: Loss = 0.05097, Accuracy = 95.69%: 100%|██████████| 448/448 [00:03<00:00, 114.36it/s]\n",
            "[10 / 12] Train: Loss = 0.05038, Accuracy = 95.71%: 100%|██████████| 448/448 [00:04<00:00, 97.53it/s]\n",
            "[11 / 12] Train: Loss = 0.04976, Accuracy = 95.72%: 100%|██████████| 448/448 [00:03<00:00, 119.38it/s]\n",
            "[12 / 12] Train: Loss = 0.05034, Accuracy = 95.73%: 100%|██████████| 448/448 [00:03<00:00, 117.97it/s]\n"
          ]
        }
      ],
      "source": [
        "optimizer = optim.SGD(model.parameters(), lr=0.1)\n",
        "fit(model, criterion, optimizer, train_data=(X_test, y_test), epochs_count=epochs_count)"
      ]
    }
  ],
  "metadata": {
    "accelerator": "GPU",
    "colab": {
      "provenance": []
    },
    "gpuClass": "standard",
    "kernelspec": {
      "display_name": "Python 3 (ipykernel)",
      "language": "python",
      "name": "python3"
    },
    "language_info": {
      "codemirror_mode": {
        "name": "ipython",
        "version": 3
      },
      "file_extension": ".py",
      "mimetype": "text/x-python",
      "name": "python",
      "nbconvert_exporter": "python",
      "pygments_lexer": "ipython3",
      "version": "3.9.7"
    }
  },
  "nbformat": 4,
  "nbformat_minor": 0
}